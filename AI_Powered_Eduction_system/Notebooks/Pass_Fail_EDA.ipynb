{
 "cells": [
  {
   "cell_type": "code",
   "execution_count": 1,
   "id": "f7107eab",
   "metadata": {},
   "outputs": [],
   "source": [
    "import pandas as pd\n",
    "import seaborn as sns\n",
    "import matplotlib.pyplot as plt\n",
    "from sklearn.preprocessing import LabelEncoder\n",
    "import numpy as np\n",
    "import sqlite3 as sql\n",
    "import datetime\n",
    "from pathlib import Path"
   ]
  },
  {
   "cell_type": "code",
   "execution_count": 2,
   "id": "96413362",
   "metadata": {},
   "outputs": [],
   "source": [
    "file ='AI_Powered_Eduction_system'\n",
    "def root(root_name:str=file):\n",
    "    for parent in Path().resolve().parents:\n",
    "        if parent.name == root_name:\n",
    "            return(parent) \n",
    "ROOT = root()"
   ]
  },
  {
   "cell_type": "code",
   "execution_count": 3,
   "id": "973847de",
   "metadata": {},
   "outputs": [],
   "source": [
    "#LOG\n",
    "#These columns are renamed for ease of use 'ITEST_id': 'student_ID','SY ASSISTments Usage':'year'\n",
    "#'student_ID','year','skill','problemId','timeTaken','correct','hintCount','attemptCount','problemType' are the only columns kept other columns are removed.\n",
    "#'attemptCount','hintCount','timeTaken' outliers removed.\n",
    "#'timeTaken' log transform done\n"
   ]
  },
  {
   "cell_type": "code",
   "execution_count": 4,
   "id": "d7347d27",
   "metadata": {},
   "outputs": [
    {
     "name": "stderr",
     "output_type": "stream",
     "text": [
      "C:\\Users\\Udith\\AppData\\Local\\Temp\\ipykernel_19488\\2921532910.py:3: DtypeWarning: Columns (74,75) have mixed types. Specify dtype option on import or set low_memory=False.\n",
      "  s2 = pd.read_csv(ROOT/r'data\\Train_datasets\\Pass_Fail\\student_log_2.csv')\n"
     ]
    }
   ],
   "source": [
    "#Loading Data\n",
    "s1 = pd.read_csv(ROOT/r'data\\Train_datasets\\Pass_Fail\\student_log_1.csv')\n",
    "s2 = pd.read_csv(ROOT/r'data\\Train_datasets\\Pass_Fail\\student_log_2.csv')\n",
    "s3 = pd.read_csv(ROOT/r'data\\Train_datasets\\Pass_Fail\\student_log_3.csv')\n",
    "s4 = pd.read_csv(ROOT/r'data\\Train_datasets\\Pass_Fail\\student_log_4.csv')\n",
    "s5 = pd.read_csv(ROOT/r'data\\Train_datasets\\Pass_Fail\\student_log_5.csv')\n",
    "s6 = pd.read_csv(ROOT/r'data\\Train_datasets\\Pass_Fail\\student_log_6.csv')\n",
    "s7 = pd.read_csv(ROOT/r'data\\Train_datasets\\Pass_Fail\\student_log_7.csv')\n",
    "s8 = pd.read_csv(ROOT/r'data\\Train_datasets\\Pass_Fail\\student_log_8.csv')\n",
    "s9 = pd.read_csv(ROOT/r'data\\Train_datasets\\Pass_Fail\\student_log_9.csv')\n",
    "s10 = pd.read_csv(ROOT/r'data\\Train_datasets\\Pass_Fail\\student_log_10.csv')"
   ]
  },
  {
   "cell_type": "code",
   "execution_count": 5,
   "id": "3cc1dacd",
   "metadata": {},
   "outputs": [
    {
     "data": {
      "text/html": [
       "<div>\n",
       "<style scoped>\n",
       "    .dataframe tbody tr th:only-of-type {\n",
       "        vertical-align: middle;\n",
       "    }\n",
       "\n",
       "    .dataframe tbody tr th {\n",
       "        vertical-align: top;\n",
       "    }\n",
       "\n",
       "    .dataframe thead th {\n",
       "        text-align: right;\n",
       "    }\n",
       "</style>\n",
       "<table border=\"1\" class=\"dataframe\">\n",
       "  <thead>\n",
       "    <tr style=\"text-align: right;\">\n",
       "      <th></th>\n",
       "      <th>ITEST_id</th>\n",
       "      <th>SY ASSISTments Usage</th>\n",
       "      <th>AveKnow</th>\n",
       "      <th>AveCarelessness</th>\n",
       "      <th>AveCorrect</th>\n",
       "      <th>NumActions</th>\n",
       "      <th>AveResBored</th>\n",
       "      <th>AveResEngcon</th>\n",
       "      <th>AveResConf</th>\n",
       "      <th>AveResFrust</th>\n",
       "      <th>...</th>\n",
       "      <th>confidence(OFF TASK)</th>\n",
       "      <th>confidence(GAMING)</th>\n",
       "      <th>RES_BORED</th>\n",
       "      <th>RES_CONCENTRATING</th>\n",
       "      <th>RES_CONFUSED</th>\n",
       "      <th>RES_FRUSTRATED</th>\n",
       "      <th>RES_OFFTASK</th>\n",
       "      <th>RES_GAMING</th>\n",
       "      <th>Ln-1</th>\n",
       "      <th>Ln</th>\n",
       "    </tr>\n",
       "  </thead>\n",
       "  <tbody>\n",
       "    <tr>\n",
       "      <th>0</th>\n",
       "      <td>8</td>\n",
       "      <td>2004-2005</td>\n",
       "      <td>0.352416</td>\n",
       "      <td>0.183276</td>\n",
       "      <td>0.483902</td>\n",
       "      <td>1056</td>\n",
       "      <td>0.208389</td>\n",
       "      <td>0.679126</td>\n",
       "      <td>0.115905</td>\n",
       "      <td>0.112408</td>\n",
       "      <td>...</td>\n",
       "      <td>0.838710</td>\n",
       "      <td>0.008522</td>\n",
       "      <td>0.376427</td>\n",
       "      <td>0.320317</td>\n",
       "      <td>0.000000</td>\n",
       "      <td>0.0</td>\n",
       "      <td>0.785585</td>\n",
       "      <td>0.000264</td>\n",
       "      <td>0.130000</td>\n",
       "      <td>0.061190</td>\n",
       "    </tr>\n",
       "    <tr>\n",
       "      <th>1</th>\n",
       "      <td>8</td>\n",
       "      <td>2004-2005</td>\n",
       "      <td>0.352416</td>\n",
       "      <td>0.183276</td>\n",
       "      <td>0.483902</td>\n",
       "      <td>1056</td>\n",
       "      <td>0.208389</td>\n",
       "      <td>0.679126</td>\n",
       "      <td>0.115905</td>\n",
       "      <td>0.112408</td>\n",
       "      <td>...</td>\n",
       "      <td>0.600000</td>\n",
       "      <td>0.047821</td>\n",
       "      <td>0.156027</td>\n",
       "      <td>0.995053</td>\n",
       "      <td>0.887452</td>\n",
       "      <td>0.0</td>\n",
       "      <td>0.468252</td>\n",
       "      <td>0.001483</td>\n",
       "      <td>0.061190</td>\n",
       "      <td>0.213510</td>\n",
       "    </tr>\n",
       "    <tr>\n",
       "      <th>2</th>\n",
       "      <td>8</td>\n",
       "      <td>2004-2005</td>\n",
       "      <td>0.352416</td>\n",
       "      <td>0.183276</td>\n",
       "      <td>0.483902</td>\n",
       "      <td>1056</td>\n",
       "      <td>0.208389</td>\n",
       "      <td>0.679126</td>\n",
       "      <td>0.115905</td>\n",
       "      <td>0.112408</td>\n",
       "      <td>...</td>\n",
       "      <td>0.600000</td>\n",
       "      <td>0.047821</td>\n",
       "      <td>0.156027</td>\n",
       "      <td>0.995053</td>\n",
       "      <td>0.887452</td>\n",
       "      <td>0.0</td>\n",
       "      <td>0.468252</td>\n",
       "      <td>0.001483</td>\n",
       "      <td>0.116000</td>\n",
       "      <td>0.033306</td>\n",
       "    </tr>\n",
       "    <tr>\n",
       "      <th>3</th>\n",
       "      <td>8</td>\n",
       "      <td>2004-2005</td>\n",
       "      <td>0.352416</td>\n",
       "      <td>0.183276</td>\n",
       "      <td>0.483902</td>\n",
       "      <td>1056</td>\n",
       "      <td>0.208389</td>\n",
       "      <td>0.679126</td>\n",
       "      <td>0.115905</td>\n",
       "      <td>0.112408</td>\n",
       "      <td>...</td>\n",
       "      <td>0.204082</td>\n",
       "      <td>0.343996</td>\n",
       "      <td>0.156027</td>\n",
       "      <td>0.744520</td>\n",
       "      <td>0.000000</td>\n",
       "      <td>0.0</td>\n",
       "      <td>0.108417</td>\n",
       "      <td>0.010665</td>\n",
       "      <td>0.116000</td>\n",
       "      <td>0.033306</td>\n",
       "    </tr>\n",
       "    <tr>\n",
       "      <th>4</th>\n",
       "      <td>8</td>\n",
       "      <td>2004-2005</td>\n",
       "      <td>0.352416</td>\n",
       "      <td>0.183276</td>\n",
       "      <td>0.483902</td>\n",
       "      <td>1056</td>\n",
       "      <td>0.208389</td>\n",
       "      <td>0.679126</td>\n",
       "      <td>0.115905</td>\n",
       "      <td>0.112408</td>\n",
       "      <td>...</td>\n",
       "      <td>0.204082</td>\n",
       "      <td>0.343996</td>\n",
       "      <td>0.156027</td>\n",
       "      <td>0.744520</td>\n",
       "      <td>0.000000</td>\n",
       "      <td>0.0</td>\n",
       "      <td>0.108417</td>\n",
       "      <td>0.010665</td>\n",
       "      <td>0.033306</td>\n",
       "      <td>0.118386</td>\n",
       "    </tr>\n",
       "  </tbody>\n",
       "</table>\n",
       "<p>5 rows × 76 columns</p>\n",
       "</div>"
      ],
      "text/plain": [
       "   ITEST_id SY ASSISTments Usage   AveKnow  AveCarelessness  AveCorrect  \\\n",
       "0         8            2004-2005  0.352416         0.183276    0.483902   \n",
       "1         8            2004-2005  0.352416         0.183276    0.483902   \n",
       "2         8            2004-2005  0.352416         0.183276    0.483902   \n",
       "3         8            2004-2005  0.352416         0.183276    0.483902   \n",
       "4         8            2004-2005  0.352416         0.183276    0.483902   \n",
       "\n",
       "   NumActions  AveResBored  AveResEngcon  AveResConf  AveResFrust  ...  \\\n",
       "0        1056     0.208389      0.679126    0.115905     0.112408  ...   \n",
       "1        1056     0.208389      0.679126    0.115905     0.112408  ...   \n",
       "2        1056     0.208389      0.679126    0.115905     0.112408  ...   \n",
       "3        1056     0.208389      0.679126    0.115905     0.112408  ...   \n",
       "4        1056     0.208389      0.679126    0.115905     0.112408  ...   \n",
       "\n",
       "   confidence(OFF TASK)  confidence(GAMING)  RES_BORED RES_CONCENTRATING  \\\n",
       "0              0.838710            0.008522   0.376427          0.320317   \n",
       "1              0.600000            0.047821   0.156027          0.995053   \n",
       "2              0.600000            0.047821   0.156027          0.995053   \n",
       "3              0.204082            0.343996   0.156027          0.744520   \n",
       "4              0.204082            0.343996   0.156027          0.744520   \n",
       "\n",
       "   RES_CONFUSED  RES_FRUSTRATED  RES_OFFTASK  RES_GAMING      Ln-1        Ln  \n",
       "0      0.000000             0.0     0.785585    0.000264  0.130000  0.061190  \n",
       "1      0.887452             0.0     0.468252    0.001483  0.061190  0.213510  \n",
       "2      0.887452             0.0     0.468252    0.001483  0.116000  0.033306  \n",
       "3      0.000000             0.0     0.108417    0.010665  0.116000  0.033306  \n",
       "4      0.000000             0.0     0.108417    0.010665  0.033306  0.118386  \n",
       "\n",
       "[5 rows x 76 columns]"
      ]
     },
     "execution_count": 5,
     "metadata": {},
     "output_type": "execute_result"
    }
   ],
   "source": [
    "#Viewing Data\n",
    "s1.head()"
   ]
  },
  {
   "cell_type": "code",
   "execution_count": 6,
   "id": "25fe426f",
   "metadata": {},
   "outputs": [
    {
     "name": "stdout",
     "output_type": "stream",
     "text": [
      "<class 'pandas.core.frame.DataFrame'>\n",
      "RangeIndex: 231403 entries, 0 to 231402\n",
      "Data columns (total 76 columns):\n",
      " #   Column                                  Non-Null Count   Dtype  \n",
      "---  ------                                  --------------   -----  \n",
      " 0   ITEST_id                                231403 non-null  int64  \n",
      " 1   SY ASSISTments Usage                    231403 non-null  object \n",
      " 2   AveKnow                                 231403 non-null  float64\n",
      " 3   AveCarelessness                         231403 non-null  float64\n",
      " 4   AveCorrect                              231403 non-null  float64\n",
      " 5   NumActions                              231403 non-null  int64  \n",
      " 6   AveResBored                             231403 non-null  float64\n",
      " 7   AveResEngcon                            231403 non-null  float64\n",
      " 8   AveResConf                              231403 non-null  float64\n",
      " 9   AveResFrust                             231403 non-null  float64\n",
      " 10  AveResOfftask                           231403 non-null  float64\n",
      " 11  AveResGaming                            231403 non-null  float64\n",
      " 12  actionId                                231403 non-null  int64  \n",
      " 13  skill                                   231403 non-null  object \n",
      " 14  problemId                               231403 non-null  int64  \n",
      " 15  assignmentId                            231403 non-null  int64  \n",
      " 16  assistmentId                            231403 non-null  int64  \n",
      " 17  startTime                               231403 non-null  int64  \n",
      " 18  endTime                                 231403 non-null  int64  \n",
      " 19  timeTaken                               231403 non-null  float64\n",
      " 20  correct                                 231403 non-null  int64  \n",
      " 21  original                                231403 non-null  int64  \n",
      " 22  hint                                    231403 non-null  int64  \n",
      " 23  hintCount                               231403 non-null  int64  \n",
      " 24  hintTotal                               231403 non-null  int64  \n",
      " 25  scaffold                                231403 non-null  int64  \n",
      " 26  bottomHint                              231403 non-null  int64  \n",
      " 27  attemptCount                            231403 non-null  int64  \n",
      " 28  problemType                             231403 non-null  object \n",
      " 29  frIsHelpRequest                         231403 non-null  int64  \n",
      " 30  frPast5HelpRequest                      231403 non-null  int64  \n",
      " 31  frPast8HelpRequest                      231403 non-null  int64  \n",
      " 32  stlHintUsed                             231403 non-null  int64  \n",
      " 33  past8BottomOut                          231403 non-null  int64  \n",
      " 34  totalFrPercentPastWrong                 231403 non-null  float64\n",
      " 35  totalFrPastWrongCount                   231403 non-null  int64  \n",
      " 36  frPast5WrongCount                       231403 non-null  int64  \n",
      " 37  frPast8WrongCount                       231403 non-null  int64  \n",
      " 38  totalFrTimeOnSkill                      231403 non-null  float64\n",
      " 39  timeSinceSkill                          231403 non-null  int64  \n",
      " 40  frWorkingInSchool                       231403 non-null  int64  \n",
      " 41  totalFrAttempted                        231403 non-null  int64  \n",
      " 42  totalFrSkillOpportunities               231403 non-null  int64  \n",
      " 43  responseIsFillIn                        231403 non-null  int64  \n",
      " 44  responseIsChosen                        231403 non-null  int64  \n",
      " 45  endsWithScaffolding                     231403 non-null  int64  \n",
      " 46  endsWithAutoScaffolding                 231403 non-null  int64  \n",
      " 47  frTimeTakenOnScaffolding                231403 non-null  float64\n",
      " 48  frTotalSkillOpportunitiesScaffolding    231403 non-null  int64  \n",
      " 49  totalFrSkillOpportunitiesByScaffolding  231403 non-null  float64\n",
      " 50  frIsHelpRequestScaffolding              231403 non-null  int64  \n",
      " 51  timeGreater5Secprev2wrong               231403 non-null  int64  \n",
      " 52  sumRight                                231403 non-null  int64  \n",
      " 53  helpAccessUnder2Sec                     231403 non-null  int64  \n",
      " 54  timeGreater10SecAndNextActionRight      231403 non-null  int64  \n",
      " 55  consecutiveErrorsInRow                  231403 non-null  int64  \n",
      " 56  sumTime3SDWhen3RowRight                 231396 non-null  float64\n",
      " 57  sumTimePerSkill                         231403 non-null  float64\n",
      " 58  totalTimeByPercentCorrectForskill       231403 non-null  float64\n",
      " 59  prev5count                              231403 non-null  int64  \n",
      " 60  timeOver80                              231403 non-null  int64  \n",
      " 61  manywrong                               231403 non-null  int64  \n",
      " 62  confidence(BORED)                       231403 non-null  float64\n",
      " 63  confidence(CONCENTRATING)               231403 non-null  float64\n",
      " 64  confidence(CONFUSED)                    231403 non-null  float64\n",
      " 65  confidence(FRUSTRATED)                  231403 non-null  float64\n",
      " 66  confidence(OFF TASK)                    231403 non-null  float64\n",
      " 67  confidence(GAMING)                      231403 non-null  float64\n",
      " 68  RES_BORED                               231403 non-null  float64\n",
      " 69  RES_CONCENTRATING                       231403 non-null  float64\n",
      " 70  RES_CONFUSED                            231403 non-null  float64\n",
      " 71  RES_FRUSTRATED                          231403 non-null  float64\n",
      " 72  RES_OFFTASK                             231403 non-null  float64\n",
      " 73  RES_GAMING                              231403 non-null  float64\n",
      " 74  Ln-1                                    231403 non-null  float64\n",
      " 75  Ln                                      231403 non-null  float64\n",
      "dtypes: float64(31), int64(42), object(3)\n",
      "memory usage: 134.2+ MB\n"
     ]
    }
   ],
   "source": [
    "s1.info()"
   ]
  },
  {
   "cell_type": "code",
   "execution_count": 7,
   "id": "9f501a93",
   "metadata": {},
   "outputs": [],
   "source": [
    "#Function to clean data\n",
    "def clean_data(dataframes):\n",
    "    list=[]\n",
    "    for df in dataframes:\n",
    "        df = df.rename(columns={'ITEST_id': 'student_ID','SY ASSISTments Usage':'year'})\n",
    "        cols_to_keep = ['student_ID','year','skill','problemId','timeTaken','correct','hintCount','attemptCount','problemType']\n",
    "        df = df[cols_to_keep]\n",
    "        df[['year1','year2']] = df['year'].str.split('-',expand=True)\n",
    "        df['year1']=pd.to_datetime(df['year1'])\n",
    "        df['year1']=df['year1'].dt.year\n",
    "        df['year2']=pd.to_datetime(df['year2'])\n",
    "        df['year2']=df['year2'].dt.year\n",
    "        df=df.drop(columns=['year','problemId'],axis=1)\n",
    "        list.append(df)\n",
    "    result=pd.concat(list,axis=0,ignore_index=True)\n",
    "    return result\n",
    "        \n"
   ]
  },
  {
   "cell_type": "code",
   "execution_count": 8,
   "id": "64ee88d2",
   "metadata": {},
   "outputs": [],
   "source": [
    "#Cleaning and merging data into 1\n",
    "dataframes = [s1,s2,s3,s4,s5,s6,s7,s8,s9,s10]\n",
    "student_log = clean_data(dataframes)"
   ]
  },
  {
   "cell_type": "code",
   "execution_count": 9,
   "id": "4a3c7255",
   "metadata": {},
   "outputs": [
    {
     "data": {
      "text/html": [
       "<div>\n",
       "<style scoped>\n",
       "    .dataframe tbody tr th:only-of-type {\n",
       "        vertical-align: middle;\n",
       "    }\n",
       "\n",
       "    .dataframe tbody tr th {\n",
       "        vertical-align: top;\n",
       "    }\n",
       "\n",
       "    .dataframe thead th {\n",
       "        text-align: right;\n",
       "    }\n",
       "</style>\n",
       "<table border=\"1\" class=\"dataframe\">\n",
       "  <thead>\n",
       "    <tr style=\"text-align: right;\">\n",
       "      <th></th>\n",
       "      <th>student_ID</th>\n",
       "      <th>skill</th>\n",
       "      <th>timeTaken</th>\n",
       "      <th>correct</th>\n",
       "      <th>hintCount</th>\n",
       "      <th>attemptCount</th>\n",
       "      <th>problemType</th>\n",
       "      <th>year1</th>\n",
       "      <th>year2</th>\n",
       "    </tr>\n",
       "  </thead>\n",
       "  <tbody>\n",
       "    <tr>\n",
       "      <th>0</th>\n",
       "      <td>8</td>\n",
       "      <td>properties-of-geometric-figures</td>\n",
       "      <td>49.0</td>\n",
       "      <td>0</td>\n",
       "      <td>1</td>\n",
       "      <td>1</td>\n",
       "      <td>textfieldquestion</td>\n",
       "      <td>2004</td>\n",
       "      <td>2005</td>\n",
       "    </tr>\n",
       "    <tr>\n",
       "      <th>1</th>\n",
       "      <td>8</td>\n",
       "      <td>properties-of-geometric-figures</td>\n",
       "      <td>4.0</td>\n",
       "      <td>1</td>\n",
       "      <td>0</td>\n",
       "      <td>1</td>\n",
       "      <td>noprobtype</td>\n",
       "      <td>2004</td>\n",
       "      <td>2005</td>\n",
       "    </tr>\n",
       "    <tr>\n",
       "      <th>2</th>\n",
       "      <td>8</td>\n",
       "      <td>sum-of-interior-angles-more-than-3-sides</td>\n",
       "      <td>6.0</td>\n",
       "      <td>0</td>\n",
       "      <td>0</td>\n",
       "      <td>1</td>\n",
       "      <td>noprobtype</td>\n",
       "      <td>2004</td>\n",
       "      <td>2005</td>\n",
       "    </tr>\n",
       "    <tr>\n",
       "      <th>3</th>\n",
       "      <td>8</td>\n",
       "      <td>sum-of-interior-angles-more-than-3-sides</td>\n",
       "      <td>18.0</td>\n",
       "      <td>0</td>\n",
       "      <td>0</td>\n",
       "      <td>2</td>\n",
       "      <td>noprobtype</td>\n",
       "      <td>2004</td>\n",
       "      <td>2005</td>\n",
       "    </tr>\n",
       "    <tr>\n",
       "      <th>4</th>\n",
       "      <td>8</td>\n",
       "      <td>sum-of-interior-angles-more-than-3-sides</td>\n",
       "      <td>2.0</td>\n",
       "      <td>1</td>\n",
       "      <td>0</td>\n",
       "      <td>1</td>\n",
       "      <td>noprobtype</td>\n",
       "      <td>2004</td>\n",
       "      <td>2005</td>\n",
       "    </tr>\n",
       "    <tr>\n",
       "      <th>5</th>\n",
       "      <td>8</td>\n",
       "      <td>sum-of-interior-angles-more-than-3-sides</td>\n",
       "      <td>59.0</td>\n",
       "      <td>0</td>\n",
       "      <td>1</td>\n",
       "      <td>2</td>\n",
       "      <td>noprobtype</td>\n",
       "      <td>2004</td>\n",
       "      <td>2005</td>\n",
       "    </tr>\n",
       "    <tr>\n",
       "      <th>6</th>\n",
       "      <td>8</td>\n",
       "      <td>sum-of-interior-angles-more-than-3-sides</td>\n",
       "      <td>15.0</td>\n",
       "      <td>1</td>\n",
       "      <td>1</td>\n",
       "      <td>3</td>\n",
       "      <td>noprobtype</td>\n",
       "      <td>2004</td>\n",
       "      <td>2005</td>\n",
       "    </tr>\n",
       "    <tr>\n",
       "      <th>7</th>\n",
       "      <td>8</td>\n",
       "      <td>point-plotting</td>\n",
       "      <td>61.0</td>\n",
       "      <td>0</td>\n",
       "      <td>0</td>\n",
       "      <td>1</td>\n",
       "      <td>radioquestion</td>\n",
       "      <td>2004</td>\n",
       "      <td>2005</td>\n",
       "    </tr>\n",
       "    <tr>\n",
       "      <th>8</th>\n",
       "      <td>8</td>\n",
       "      <td>transformations-rotations</td>\n",
       "      <td>18.0</td>\n",
       "      <td>0</td>\n",
       "      <td>0</td>\n",
       "      <td>1</td>\n",
       "      <td>noprobtype</td>\n",
       "      <td>2004</td>\n",
       "      <td>2005</td>\n",
       "    </tr>\n",
       "    <tr>\n",
       "      <th>9</th>\n",
       "      <td>8</td>\n",
       "      <td>transformations-rotations</td>\n",
       "      <td>0.0</td>\n",
       "      <td>0</td>\n",
       "      <td>0</td>\n",
       "      <td>2</td>\n",
       "      <td>noprobtype</td>\n",
       "      <td>2004</td>\n",
       "      <td>2005</td>\n",
       "    </tr>\n",
       "  </tbody>\n",
       "</table>\n",
       "</div>"
      ],
      "text/plain": [
       "   student_ID                                     skill  timeTaken  correct  \\\n",
       "0           8           properties-of-geometric-figures       49.0        0   \n",
       "1           8           properties-of-geometric-figures        4.0        1   \n",
       "2           8  sum-of-interior-angles-more-than-3-sides        6.0        0   \n",
       "3           8  sum-of-interior-angles-more-than-3-sides       18.0        0   \n",
       "4           8  sum-of-interior-angles-more-than-3-sides        2.0        1   \n",
       "5           8  sum-of-interior-angles-more-than-3-sides       59.0        0   \n",
       "6           8  sum-of-interior-angles-more-than-3-sides       15.0        1   \n",
       "7           8                            point-plotting       61.0        0   \n",
       "8           8                 transformations-rotations       18.0        0   \n",
       "9           8                 transformations-rotations        0.0        0   \n",
       "\n",
       "   hintCount  attemptCount        problemType  year1  year2  \n",
       "0          1             1  textfieldquestion   2004   2005  \n",
       "1          0             1         noprobtype   2004   2005  \n",
       "2          0             1         noprobtype   2004   2005  \n",
       "3          0             2         noprobtype   2004   2005  \n",
       "4          0             1         noprobtype   2004   2005  \n",
       "5          1             2         noprobtype   2004   2005  \n",
       "6          1             3         noprobtype   2004   2005  \n",
       "7          0             1      radioquestion   2004   2005  \n",
       "8          0             1         noprobtype   2004   2005  \n",
       "9          0             2         noprobtype   2004   2005  "
      ]
     },
     "execution_count": 9,
     "metadata": {},
     "output_type": "execute_result"
    }
   ],
   "source": [
    "#Viewing cleaned data\n",
    "student_log.head(10)"
   ]
  },
  {
   "cell_type": "code",
   "execution_count": 10,
   "id": "a014500f",
   "metadata": {},
   "outputs": [
    {
     "name": "stdout",
     "output_type": "stream",
     "text": [
      "<class 'pandas.core.frame.DataFrame'>\n",
      "RangeIndex: 942816 entries, 0 to 942815\n",
      "Data columns (total 9 columns):\n",
      " #   Column        Non-Null Count   Dtype  \n",
      "---  ------        --------------   -----  \n",
      " 0   student_ID    942816 non-null  int64  \n",
      " 1   skill         942816 non-null  object \n",
      " 2   timeTaken     942816 non-null  float64\n",
      " 3   correct       942816 non-null  int64  \n",
      " 4   hintCount     942816 non-null  int64  \n",
      " 5   attemptCount  942816 non-null  int64  \n",
      " 6   problemType   942816 non-null  object \n",
      " 7   year1         942816 non-null  int32  \n",
      " 8   year2         942816 non-null  int32  \n",
      "dtypes: float64(1), int32(2), int64(4), object(2)\n",
      "memory usage: 57.5+ MB\n"
     ]
    }
   ],
   "source": [
    "student_log.info()"
   ]
  },
  {
   "cell_type": "code",
   "execution_count": 11,
   "id": "8c130cc5",
   "metadata": {},
   "outputs": [],
   "source": [
    "#Encoding object data\n",
    "le = LabelEncoder()\n",
    "student_log['skill_ID'] = le.fit_transform(student_log['skill'])\n",
    "le1 = LabelEncoder()\n",
    "student_log['Type_ID'] = le1.fit_transform(student_log['problemType'])\n",
    "sl_skill = student_log[['skill_ID','skill']].drop_duplicates().reset_index(drop=True)\n",
    "sl_problemType = student_log[['Type_ID','problemType']].drop_duplicates().reset_index(drop=True)"
   ]
  },
  {
   "cell_type": "code",
   "execution_count": 12,
   "id": "6f5ab605",
   "metadata": {},
   "outputs": [],
   "source": [
    "student_log = student_log.drop(columns=['skill','problemType'],axis=0)"
   ]
  },
  {
   "cell_type": "code",
   "execution_count": 13,
   "id": "37b135b3",
   "metadata": {},
   "outputs": [
    {
     "data": {
      "text/plain": [
       "<Axes: xlabel='attemptCount'>"
      ]
     },
     "execution_count": 13,
     "metadata": {},
     "output_type": "execute_result"
    },
    {
     "data": {
      "image/png": "[encoded data removed]",
      "text/plain": [
       "<Figure size 1100x900 with 1 Axes>"
      ]
     },
     "metadata": {},
     "output_type": "display_data"
    }
   ],
   "source": [
    "#EDA\n",
    "#Box plot to check outliers\n",
    "f, ax = plt.subplots(figsize=(11, 9))\n",
    "sns.boxplot(data=student_log,x='attemptCount')"
   ]
  },
  {
   "cell_type": "code",
   "execution_count": 14,
   "id": "1bbbb9e2",
   "metadata": {},
   "outputs": [
    {
     "name": "stdout",
     "output_type": "stream",
     "text": [
      "Number of outliers: 86383\n",
      "Total number of data: 942816\n",
      "percentage of ouliers: 9.162233139870345\n"
     ]
    }
   ],
   "source": [
    "#Treating outliers\n",
    "q1=np.percentile(student_log['attemptCount'],25)\n",
    "q3=np.percentile(student_log['attemptCount'],75)\n",
    "IQR = q3-q1\n",
    "upperfence=q3+(1.5*IQR)\n",
    "lowerfence=q1-(1.5*IQR)\n",
    "print('Number of outliers:',sum((student_log['attemptCount']>=upperfence)|(student_log['attemptCount']<=lowerfence)))\n",
    "print('Total number of data:',len(student_log['attemptCount']))\n",
    "print('percentage of ouliers:',(sum((student_log['attemptCount']>=upperfence)|(student_log['attemptCount']<=lowerfence)))/(len(student_log['attemptCount']))*100)"
   ]
  },
  {
   "cell_type": "code",
   "execution_count": 15,
   "id": "f34baa6f",
   "metadata": {},
   "outputs": [],
   "source": [
    "#removing outliers\n",
    "student_log=student_log[(student_log['attemptCount']<=upperfence)&(student_log['attemptCount']>=lowerfence)]"
   ]
  },
  {
   "cell_type": "code",
   "execution_count": 16,
   "id": "81ee0c25",
   "metadata": {},
   "outputs": [
    {
     "name": "stdout",
     "output_type": "stream",
     "text": [
      "<class 'pandas.core.frame.DataFrame'>\n",
      "Index: 883006 entries, 0 to 942815\n",
      "Data columns (total 9 columns):\n",
      " #   Column        Non-Null Count   Dtype  \n",
      "---  ------        --------------   -----  \n",
      " 0   student_ID    883006 non-null  int64  \n",
      " 1   timeTaken     883006 non-null  float64\n",
      " 2   correct       883006 non-null  int64  \n",
      " 3   hintCount     883006 non-null  int64  \n",
      " 4   attemptCount  883006 non-null  int64  \n",
      " 5   year1         883006 non-null  int32  \n",
      " 6   year2         883006 non-null  int32  \n",
      " 7   skill_ID      883006 non-null  int32  \n",
      " 8   Type_ID       883006 non-null  int32  \n",
      "dtypes: float64(1), int32(4), int64(4)\n",
      "memory usage: 53.9 MB\n"
     ]
    }
   ],
   "source": [
    "student_log.info()"
   ]
  },
  {
   "cell_type": "code",
   "execution_count": 17,
   "id": "533ea27b",
   "metadata": {},
   "outputs": [
    {
     "data": {
      "text/html": [
       "<div>\n",
       "<style scoped>\n",
       "    .dataframe tbody tr th:only-of-type {\n",
       "        vertical-align: middle;\n",
       "    }\n",
       "\n",
       "    .dataframe tbody tr th {\n",
       "        vertical-align: top;\n",
       "    }\n",
       "\n",
       "    .dataframe thead th {\n",
       "        text-align: right;\n",
       "    }\n",
       "</style>\n",
       "<table border=\"1\" class=\"dataframe\">\n",
       "  <thead>\n",
       "    <tr style=\"text-align: right;\">\n",
       "      <th></th>\n",
       "      <th>student_ID</th>\n",
       "      <th>timeTaken</th>\n",
       "      <th>correct</th>\n",
       "      <th>hintCount</th>\n",
       "      <th>attemptCount</th>\n",
       "      <th>year1</th>\n",
       "      <th>year2</th>\n",
       "      <th>skill_ID</th>\n",
       "      <th>Type_ID</th>\n",
       "    </tr>\n",
       "  </thead>\n",
       "  <tbody>\n",
       "    <tr>\n",
       "      <th>count</th>\n",
       "      <td>883006.00</td>\n",
       "      <td>883006.00</td>\n",
       "      <td>883006.00</td>\n",
       "      <td>883006.00</td>\n",
       "      <td>883006.00</td>\n",
       "      <td>883006.00</td>\n",
       "      <td>883006.00</td>\n",
       "      <td>883006.00</td>\n",
       "      <td>883006.00</td>\n",
       "    </tr>\n",
       "    <tr>\n",
       "      <th>mean</th>\n",
       "      <td>3848.54</td>\n",
       "      <td>30.20</td>\n",
       "      <td>0.38</td>\n",
       "      <td>0.93</td>\n",
       "      <td>2.12</td>\n",
       "      <td>2004.43</td>\n",
       "      <td>2005.43</td>\n",
       "      <td>57.05</td>\n",
       "      <td>10.65</td>\n",
       "    </tr>\n",
       "    <tr>\n",
       "      <th>std</th>\n",
       "      <td>2250.92</td>\n",
       "      <td>71.65</td>\n",
       "      <td>0.49</td>\n",
       "      <td>1.28</td>\n",
       "      <td>1.39</td>\n",
       "      <td>0.50</td>\n",
       "      <td>0.50</td>\n",
       "      <td>24.98</td>\n",
       "      <td>5.11</td>\n",
       "    </tr>\n",
       "    <tr>\n",
       "      <th>min</th>\n",
       "      <td>8.00</td>\n",
       "      <td>0.00</td>\n",
       "      <td>0.00</td>\n",
       "      <td>0.00</td>\n",
       "      <td>1.00</td>\n",
       "      <td>2004.00</td>\n",
       "      <td>2005.00</td>\n",
       "      <td>0.00</td>\n",
       "      <td>0.00</td>\n",
       "    </tr>\n",
       "    <tr>\n",
       "      <th>25%</th>\n",
       "      <td>1960.00</td>\n",
       "      <td>5.00</td>\n",
       "      <td>0.00</td>\n",
       "      <td>0.00</td>\n",
       "      <td>1.00</td>\n",
       "      <td>2004.00</td>\n",
       "      <td>2005.00</td>\n",
       "      <td>39.00</td>\n",
       "      <td>10.00</td>\n",
       "    </tr>\n",
       "    <tr>\n",
       "      <th>50%</th>\n",
       "      <td>3768.00</td>\n",
       "      <td>12.00</td>\n",
       "      <td>0.00</td>\n",
       "      <td>0.00</td>\n",
       "      <td>2.00</td>\n",
       "      <td>2004.00</td>\n",
       "      <td>2005.00</td>\n",
       "      <td>59.00</td>\n",
       "      <td>13.00</td>\n",
       "    </tr>\n",
       "    <tr>\n",
       "      <th>75%</th>\n",
       "      <td>5785.00</td>\n",
       "      <td>31.00</td>\n",
       "      <td>1.00</td>\n",
       "      <td>2.00</td>\n",
       "      <td>3.00</td>\n",
       "      <td>2005.00</td>\n",
       "      <td>2006.00</td>\n",
       "      <td>72.00</td>\n",
       "      <td>15.00</td>\n",
       "    </tr>\n",
       "    <tr>\n",
       "      <th>max</th>\n",
       "      <td>7783.00</td>\n",
       "      <td>9999.00</td>\n",
       "      <td>1.00</td>\n",
       "      <td>38.00</td>\n",
       "      <td>6.00</td>\n",
       "      <td>2005.00</td>\n",
       "      <td>2006.00</td>\n",
       "      <td>101.00</td>\n",
       "      <td>15.00</td>\n",
       "    </tr>\n",
       "  </tbody>\n",
       "</table>\n",
       "</div>"
      ],
      "text/plain": [
       "       student_ID  timeTaken    correct  hintCount  attemptCount      year1  \\\n",
       "count   883006.00  883006.00  883006.00  883006.00     883006.00  883006.00   \n",
       "mean      3848.54      30.20       0.38       0.93          2.12    2004.43   \n",
       "std       2250.92      71.65       0.49       1.28          1.39       0.50   \n",
       "min          8.00       0.00       0.00       0.00          1.00    2004.00   \n",
       "25%       1960.00       5.00       0.00       0.00          1.00    2004.00   \n",
       "50%       3768.00      12.00       0.00       0.00          2.00    2004.00   \n",
       "75%       5785.00      31.00       1.00       2.00          3.00    2005.00   \n",
       "max       7783.00    9999.00       1.00      38.00          6.00    2005.00   \n",
       "\n",
       "           year2   skill_ID    Type_ID  \n",
       "count  883006.00  883006.00  883006.00  \n",
       "mean     2005.43      57.05      10.65  \n",
       "std         0.50      24.98       5.11  \n",
       "min      2005.00       0.00       0.00  \n",
       "25%      2005.00      39.00      10.00  \n",
       "50%      2005.00      59.00      13.00  \n",
       "75%      2006.00      72.00      15.00  \n",
       "max      2006.00     101.00      15.00  "
      ]
     },
     "execution_count": 17,
     "metadata": {},
     "output_type": "execute_result"
    }
   ],
   "source": [
    "student_log.describe().round(2)"
   ]
  },
  {
   "cell_type": "code",
   "execution_count": 18,
   "id": "94c678da",
   "metadata": {},
   "outputs": [
    {
     "data": {
      "text/plain": [
       "<Axes: xlabel='attemptCount'>"
      ]
     },
     "execution_count": 18,
     "metadata": {},
     "output_type": "execute_result"
    },
    {
     "data": {
      "image/png": "[encoded data removed]",
      "text/plain": [
       "<Figure size 1100x900 with 1 Axes>"
      ]
     },
     "metadata": {},
     "output_type": "display_data"
    }
   ],
   "source": [
    "f, ax = plt.subplots(figsize=(11, 9))\n",
    "sns.boxplot(data=student_log,x='attemptCount')"
   ]
  },
  {
   "cell_type": "code",
   "execution_count": 19,
   "id": "c6c50356",
   "metadata": {},
   "outputs": [
    {
     "name": "stdout",
     "output_type": "stream",
     "text": [
      "<class 'pandas.core.frame.DataFrame'>\n",
      "Index: 883006 entries, 0 to 942815\n",
      "Data columns (total 9 columns):\n",
      " #   Column        Non-Null Count   Dtype  \n",
      "---  ------        --------------   -----  \n",
      " 0   student_ID    883006 non-null  int64  \n",
      " 1   timeTaken     883006 non-null  float64\n",
      " 2   correct       883006 non-null  int64  \n",
      " 3   hintCount     883006 non-null  int64  \n",
      " 4   attemptCount  883006 non-null  int64  \n",
      " 5   year1         883006 non-null  int32  \n",
      " 6   year2         883006 non-null  int32  \n",
      " 7   skill_ID      883006 non-null  int32  \n",
      " 8   Type_ID       883006 non-null  int32  \n",
      "dtypes: float64(1), int32(4), int64(4)\n",
      "memory usage: 53.9 MB\n"
     ]
    }
   ],
   "source": [
    "student_log.info()"
   ]
  },
  {
   "cell_type": "code",
   "execution_count": 20,
   "id": "9455eeee",
   "metadata": {},
   "outputs": [
    {
     "data": {
      "text/plain": [
       "<Axes: xlabel='hintCount'>"
      ]
     },
     "execution_count": 20,
     "metadata": {},
     "output_type": "execute_result"
    },
    {
     "data": {
      "image/png": "[encoded data removed]",
      "text/plain": [
       "<Figure size 1100x900 with 1 Axes>"
      ]
     },
     "metadata": {},
     "output_type": "display_data"
    }
   ],
   "source": [
    "f1, ax1 = plt.subplots(figsize=(11, 9))\n",
    "sns.boxplot(data=student_log,x='hintCount')"
   ]
  },
  {
   "cell_type": "code",
   "execution_count": 21,
   "id": "2bbf4a82",
   "metadata": {},
   "outputs": [
    {
     "name": "stdout",
     "output_type": "stream",
     "text": [
      "Number of outliers: 1962\n",
      "Total number of data: 883006\n",
      "percentage of ouliers: 0.22219554567013133\n"
     ]
    }
   ],
   "source": [
    "q1=np.percentile(student_log['hintCount'],25)\n",
    "q3=np.percentile(student_log['hintCount'],75)\n",
    "IQR = q3-q1\n",
    "upperfence1=q3+(1.5*IQR)\n",
    "lowerfence1=q1-(1.5*IQR)\n",
    "print('Number of outliers:',sum((student_log['hintCount']>=upperfence)|(student_log['hintCount']<=lowerfence)))\n",
    "print('Total number of data:',len(student_log['hintCount']))\n",
    "print('percentage of ouliers:',(sum((student_log['hintCount']>=upperfence)|(student_log['hintCount']<=lowerfence)))/(len(student_log['hintCount']))*100)"
   ]
  },
  {
   "cell_type": "code",
   "execution_count": 22,
   "id": "7d639d08",
   "metadata": {},
   "outputs": [
    {
     "name": "stdout",
     "output_type": "stream",
     "text": [
      "<class 'pandas.core.frame.DataFrame'>\n",
      "Index: 883006 entries, 0 to 942815\n",
      "Data columns (total 9 columns):\n",
      " #   Column        Non-Null Count   Dtype  \n",
      "---  ------        --------------   -----  \n",
      " 0   student_ID    883006 non-null  int64  \n",
      " 1   timeTaken     883006 non-null  float64\n",
      " 2   correct       883006 non-null  int64  \n",
      " 3   hintCount     883006 non-null  int64  \n",
      " 4   attemptCount  883006 non-null  int64  \n",
      " 5   year1         883006 non-null  int32  \n",
      " 6   year2         883006 non-null  int32  \n",
      " 7   skill_ID      883006 non-null  int32  \n",
      " 8   Type_ID       883006 non-null  int32  \n",
      "dtypes: float64(1), int32(4), int64(4)\n",
      "memory usage: 53.9 MB\n"
     ]
    }
   ],
   "source": [
    "student_log.info()"
   ]
  },
  {
   "cell_type": "code",
   "execution_count": 23,
   "id": "ea4afedb",
   "metadata": {},
   "outputs": [],
   "source": [
    "student_log=student_log[(student_log['hintCount']<=upperfence1)&(student_log['hintCount']>=lowerfence1)]\n"
   ]
  },
  {
   "cell_type": "code",
   "execution_count": 24,
   "id": "904e090b",
   "metadata": {},
   "outputs": [
    {
     "name": "stdout",
     "output_type": "stream",
     "text": [
      "<class 'pandas.core.frame.DataFrame'>\n",
      "Index: 881044 entries, 0 to 942815\n",
      "Data columns (total 9 columns):\n",
      " #   Column        Non-Null Count   Dtype  \n",
      "---  ------        --------------   -----  \n",
      " 0   student_ID    881044 non-null  int64  \n",
      " 1   timeTaken     881044 non-null  float64\n",
      " 2   correct       881044 non-null  int64  \n",
      " 3   hintCount     881044 non-null  int64  \n",
      " 4   attemptCount  881044 non-null  int64  \n",
      " 5   year1         881044 non-null  int32  \n",
      " 6   year2         881044 non-null  int32  \n",
      " 7   skill_ID      881044 non-null  int32  \n",
      " 8   Type_ID       881044 non-null  int32  \n",
      "dtypes: float64(1), int32(4), int64(4)\n",
      "memory usage: 53.8 MB\n"
     ]
    }
   ],
   "source": [
    "student_log.info()"
   ]
  },
  {
   "cell_type": "code",
   "execution_count": 25,
   "id": "dcc08457",
   "metadata": {},
   "outputs": [
    {
     "name": "stdout",
     "output_type": "stream",
     "text": [
      "<class 'pandas.core.frame.DataFrame'>\n",
      "Index: 881044 entries, 0 to 942815\n",
      "Data columns (total 9 columns):\n",
      " #   Column        Non-Null Count   Dtype  \n",
      "---  ------        --------------   -----  \n",
      " 0   student_ID    881044 non-null  int64  \n",
      " 1   timeTaken     881044 non-null  float64\n",
      " 2   correct       881044 non-null  int64  \n",
      " 3   hintCount     881044 non-null  int64  \n",
      " 4   attemptCount  881044 non-null  int64  \n",
      " 5   year1         881044 non-null  int32  \n",
      " 6   year2         881044 non-null  int32  \n",
      " 7   skill_ID      881044 non-null  int32  \n",
      " 8   Type_ID       881044 non-null  int32  \n",
      "dtypes: float64(1), int32(4), int64(4)\n",
      "memory usage: 53.8 MB\n"
     ]
    }
   ],
   "source": [
    "student_log.info()"
   ]
  },
  {
   "cell_type": "code",
   "execution_count": 26,
   "id": "d4121a6d",
   "metadata": {},
   "outputs": [
    {
     "data": {
      "text/plain": [
       "<Axes: xlabel='hintCount'>"
      ]
     },
     "execution_count": 26,
     "metadata": {},
     "output_type": "execute_result"
    },
    {
     "data": {
      "image/png": "[encoded data removed]",
      "text/plain": [
       "<Figure size 1100x900 with 1 Axes>"
      ]
     },
     "metadata": {},
     "output_type": "display_data"
    }
   ],
   "source": [
    "f1, ax1 = plt.subplots(figsize=(11, 9))\n",
    "sns.boxplot(data=student_log,x='hintCount')"
   ]
  },
  {
   "cell_type": "code",
   "execution_count": null,
   "id": "a41de960",
   "metadata": {},
   "outputs": [],
   "source": []
  },
  {
   "cell_type": "code",
   "execution_count": 27,
   "id": "73e173b4",
   "metadata": {},
   "outputs": [
    {
     "data": {
      "text/plain": [
       "<Axes: xlabel='timeTaken'>"
      ]
     },
     "execution_count": 27,
     "metadata": {},
     "output_type": "execute_result"
    },
    {
     "data": {
      "image/png": "[encoded data removed]",
      "text/plain": [
       "<Figure size 1100x500 with 1 Axes>"
      ]
     },
     "metadata": {},
     "output_type": "display_data"
    }
   ],
   "source": [
    "f2, ax2 = plt.subplots(figsize=(11, 5))\n",
    "sns.boxplot(data=student_log,x='timeTaken')"
   ]
  },
  {
   "cell_type": "code",
   "execution_count": 28,
   "id": "0c76be9e",
   "metadata": {},
   "outputs": [
    {
     "name": "stdout",
     "output_type": "stream",
     "text": [
      "<class 'pandas.core.frame.DataFrame'>\n",
      "Index: 881044 entries, 0 to 942815\n",
      "Data columns (total 9 columns):\n",
      " #   Column        Non-Null Count   Dtype  \n",
      "---  ------        --------------   -----  \n",
      " 0   student_ID    881044 non-null  int64  \n",
      " 1   timeTaken     881044 non-null  float64\n",
      " 2   correct       881044 non-null  int64  \n",
      " 3   hintCount     881044 non-null  int64  \n",
      " 4   attemptCount  881044 non-null  int64  \n",
      " 5   year1         881044 non-null  int32  \n",
      " 6   year2         881044 non-null  int32  \n",
      " 7   skill_ID      881044 non-null  int32  \n",
      " 8   Type_ID       881044 non-null  int32  \n",
      "dtypes: float64(1), int32(4), int64(4)\n",
      "memory usage: 53.8 MB\n"
     ]
    }
   ],
   "source": [
    "student_log.info()"
   ]
  },
  {
   "cell_type": "code",
   "execution_count": 29,
   "id": "23bacaca",
   "metadata": {},
   "outputs": [
    {
     "name": "stdout",
     "output_type": "stream",
     "text": [
      "        student_ID  timeTaken  correct  hintCount  attemptCount  year1  year2  \\\n",
      "196576         203     9999.0        0          1             1   2005   2006   \n",
      "600295         690     9999.0        0          0             1   2005   2006   \n",
      "624809        1826     9999.0        0          0             1   2005   2006   \n",
      "720951        3609     9999.0        0          0             1   2005   2006   \n",
      "731180        3837     9999.0        1          0             1   2005   2006   \n",
      "788196        4970     9999.0        0          0             1   2005   2006   \n",
      "814419        5400     9999.0        1          0             1   2005   2006   \n",
      "866870        1231     9999.0        1          0             1   2005   2006   \n",
      "939171        7730     9999.0        1          0             1   2005   2006   \n",
      "\n",
      "        skill_ID  Type_ID  \n",
      "196576        74       14  \n",
      "600295        62       15  \n",
      "624809        29       14  \n",
      "720951         3       14  \n",
      "731180        21       15  \n",
      "788196        24       13  \n",
      "814419        14       14  \n",
      "866870        90       15  \n",
      "939171        43       14  \n"
     ]
    }
   ],
   "source": [
    "print(student_log[student_log['timeTaken']>8000])"
   ]
  },
  {
   "cell_type": "code",
   "execution_count": 30,
   "id": "c826e8a5",
   "metadata": {},
   "outputs": [],
   "source": [
    "student_log=student_log[student_log['timeTaken']<8000]"
   ]
  },
  {
   "cell_type": "code",
   "execution_count": 31,
   "id": "738f2f63",
   "metadata": {},
   "outputs": [
    {
     "name": "stdout",
     "output_type": "stream",
     "text": [
      "Number of outliers: 615140\n",
      "Total number of data: 881035\n",
      "percentage of ouliers: 69.82015470441016\n"
     ]
    }
   ],
   "source": [
    "q1=np.percentile(student_log['timeTaken'],25)\n",
    "q3=np.percentile(student_log['timeTaken'],75)\n",
    "IQR = q3-q1\n",
    "upperfence2=q3+(1.5*IQR)\n",
    "lowerfence2=q1-(1.5*IQR)\n",
    "print('Number of outliers:',sum((student_log['timeTaken']>=upperfence)|(student_log['timeTaken']<=lowerfence)))\n",
    "print('Total number of data:',len(student_log['timeTaken']))\n",
    "print('percentage of ouliers:',(sum((student_log['timeTaken']>=upperfence)|(student_log['timeTaken']<=lowerfence)))/(len(student_log['timeTaken']))*100)"
   ]
  },
  {
   "cell_type": "code",
   "execution_count": 32,
   "id": "77f5e2d9",
   "metadata": {},
   "outputs": [],
   "source": [
    "student_log['timeTaken']=(student_log['timeTaken']+1).transform('log')"
   ]
  },
  {
   "cell_type": "code",
   "execution_count": 33,
   "id": "8d2ceee1",
   "metadata": {},
   "outputs": [
    {
     "data": {
      "text/html": [
       "<div>\n",
       "<style scoped>\n",
       "    .dataframe tbody tr th:only-of-type {\n",
       "        vertical-align: middle;\n",
       "    }\n",
       "\n",
       "    .dataframe tbody tr th {\n",
       "        vertical-align: top;\n",
       "    }\n",
       "\n",
       "    .dataframe thead th {\n",
       "        text-align: right;\n",
       "    }\n",
       "</style>\n",
       "<table border=\"1\" class=\"dataframe\">\n",
       "  <thead>\n",
       "    <tr style=\"text-align: right;\">\n",
       "      <th></th>\n",
       "      <th>student_ID</th>\n",
       "      <th>timeTaken</th>\n",
       "      <th>correct</th>\n",
       "      <th>hintCount</th>\n",
       "      <th>attemptCount</th>\n",
       "      <th>year1</th>\n",
       "      <th>year2</th>\n",
       "      <th>skill_ID</th>\n",
       "      <th>Type_ID</th>\n",
       "    </tr>\n",
       "  </thead>\n",
       "  <tbody>\n",
       "    <tr>\n",
       "      <th>count</th>\n",
       "      <td>881035.00</td>\n",
       "      <td>881035.00</td>\n",
       "      <td>881035.00</td>\n",
       "      <td>881035.00</td>\n",
       "      <td>881035.00</td>\n",
       "      <td>881035.00</td>\n",
       "      <td>881035.00</td>\n",
       "      <td>881035.00</td>\n",
       "      <td>881035.00</td>\n",
       "    </tr>\n",
       "    <tr>\n",
       "      <th>mean</th>\n",
       "      <td>3848.84</td>\n",
       "      <td>2.64</td>\n",
       "      <td>0.38</td>\n",
       "      <td>0.92</td>\n",
       "      <td>2.12</td>\n",
       "      <td>2004.43</td>\n",
       "      <td>2005.43</td>\n",
       "      <td>57.06</td>\n",
       "      <td>10.65</td>\n",
       "    </tr>\n",
       "    <tr>\n",
       "      <th>std</th>\n",
       "      <td>2251.09</td>\n",
       "      <td>1.20</td>\n",
       "      <td>0.49</td>\n",
       "      <td>1.24</td>\n",
       "      <td>1.39</td>\n",
       "      <td>0.50</td>\n",
       "      <td>0.50</td>\n",
       "      <td>24.98</td>\n",
       "      <td>5.11</td>\n",
       "    </tr>\n",
       "    <tr>\n",
       "      <th>min</th>\n",
       "      <td>8.00</td>\n",
       "      <td>0.00</td>\n",
       "      <td>0.00</td>\n",
       "      <td>0.00</td>\n",
       "      <td>1.00</td>\n",
       "      <td>2004.00</td>\n",
       "      <td>2005.00</td>\n",
       "      <td>0.00</td>\n",
       "      <td>0.00</td>\n",
       "    </tr>\n",
       "    <tr>\n",
       "      <th>25%</th>\n",
       "      <td>1960.00</td>\n",
       "      <td>1.79</td>\n",
       "      <td>0.00</td>\n",
       "      <td>0.00</td>\n",
       "      <td>1.00</td>\n",
       "      <td>2004.00</td>\n",
       "      <td>2005.00</td>\n",
       "      <td>39.00</td>\n",
       "      <td>10.00</td>\n",
       "    </tr>\n",
       "    <tr>\n",
       "      <th>50%</th>\n",
       "      <td>3768.00</td>\n",
       "      <td>2.56</td>\n",
       "      <td>0.00</td>\n",
       "      <td>0.00</td>\n",
       "      <td>2.00</td>\n",
       "      <td>2004.00</td>\n",
       "      <td>2005.00</td>\n",
       "      <td>59.00</td>\n",
       "      <td>13.00</td>\n",
       "    </tr>\n",
       "    <tr>\n",
       "      <th>75%</th>\n",
       "      <td>5785.00</td>\n",
       "      <td>3.47</td>\n",
       "      <td>1.00</td>\n",
       "      <td>2.00</td>\n",
       "      <td>3.00</td>\n",
       "      <td>2005.00</td>\n",
       "      <td>2006.00</td>\n",
       "      <td>72.00</td>\n",
       "      <td>15.00</td>\n",
       "    </tr>\n",
       "    <tr>\n",
       "      <th>max</th>\n",
       "      <td>7783.00</td>\n",
       "      <td>8.28</td>\n",
       "      <td>1.00</td>\n",
       "      <td>5.00</td>\n",
       "      <td>6.00</td>\n",
       "      <td>2005.00</td>\n",
       "      <td>2006.00</td>\n",
       "      <td>101.00</td>\n",
       "      <td>15.00</td>\n",
       "    </tr>\n",
       "  </tbody>\n",
       "</table>\n",
       "</div>"
      ],
      "text/plain": [
       "       student_ID  timeTaken    correct  hintCount  attemptCount      year1  \\\n",
       "count   881035.00  881035.00  881035.00  881035.00     881035.00  881035.00   \n",
       "mean      3848.84       2.64       0.38       0.92          2.12    2004.43   \n",
       "std       2251.09       1.20       0.49       1.24          1.39       0.50   \n",
       "min          8.00       0.00       0.00       0.00          1.00    2004.00   \n",
       "25%       1960.00       1.79       0.00       0.00          1.00    2004.00   \n",
       "50%       3768.00       2.56       0.00       0.00          2.00    2004.00   \n",
       "75%       5785.00       3.47       1.00       2.00          3.00    2005.00   \n",
       "max       7783.00       8.28       1.00       5.00          6.00    2005.00   \n",
       "\n",
       "           year2   skill_ID    Type_ID  \n",
       "count  881035.00  881035.00  881035.00  \n",
       "mean     2005.43      57.06      10.65  \n",
       "std         0.50      24.98       5.11  \n",
       "min      2005.00       0.00       0.00  \n",
       "25%      2005.00      39.00      10.00  \n",
       "50%      2005.00      59.00      13.00  \n",
       "75%      2006.00      72.00      15.00  \n",
       "max      2006.00     101.00      15.00  "
      ]
     },
     "execution_count": 33,
     "metadata": {},
     "output_type": "execute_result"
    }
   ],
   "source": [
    "student_log.describe().round(2)"
   ]
  },
  {
   "cell_type": "code",
   "execution_count": 34,
   "id": "51204762",
   "metadata": {},
   "outputs": [
    {
     "data": {
      "text/plain": [
       "<Axes: xlabel='timeTaken'>"
      ]
     },
     "execution_count": 34,
     "metadata": {},
     "output_type": "execute_result"
    },
    {
     "data": {
      "image/png": "[encoded data removed]",
      "text/plain": [
       "<Figure size 1100x500 with 1 Axes>"
      ]
     },
     "metadata": {},
     "output_type": "display_data"
    }
   ],
   "source": [
    "f2, ax2 = plt.subplots(figsize=(11, 5))\n",
    "sns.boxplot(data=student_log,x='timeTaken')"
   ]
  },
  {
   "cell_type": "code",
   "execution_count": 35,
   "id": "eeaf5115",
   "metadata": {},
   "outputs": [
    {
     "name": "stdout",
     "output_type": "stream",
     "text": [
      "Number of outliers: 3877\n",
      "Total number of data: 881035\n",
      "percentage of ouliers: 0.4400506222794781\n"
     ]
    }
   ],
   "source": [
    "q1=np.percentile(student_log['timeTaken'],25)\n",
    "q3=np.percentile(student_log['timeTaken'],75)\n",
    "IQR = q3-q1\n",
    "upperfence2=q3+(1.5*IQR)\n",
    "lowerfence2=q1-(1.5*IQR)\n",
    "print('Number of outliers:',sum((student_log['timeTaken']>=upperfence)|(student_log['timeTaken']<=lowerfence)))\n",
    "print('Total number of data:',len(student_log['timeTaken']))\n",
    "print('percentage of ouliers:',(sum((student_log['timeTaken']>=upperfence)|(student_log['timeTaken']<=lowerfence)))/(len(student_log['timeTaken']))*100)"
   ]
  },
  {
   "cell_type": "code",
   "execution_count": 36,
   "id": "1689e9de",
   "metadata": {},
   "outputs": [
    {
     "data": {
      "text/plain": [
       "<Axes: xlabel='timeTaken'>"
      ]
     },
     "execution_count": 36,
     "metadata": {},
     "output_type": "execute_result"
    },
    {
     "data": {
      "image/png": "[encoded data removed]",
      "text/plain": [
       "<Figure size 1100x900 with 1 Axes>"
      ]
     },
     "metadata": {},
     "output_type": "display_data"
    }
   ],
   "source": [
    "f2, ax2 = plt.subplots(figsize=(11, 9))\n",
    "sns.boxplot(data=student_log,x='timeTaken')"
   ]
  },
  {
   "cell_type": "code",
   "execution_count": 37,
   "id": "9c6fc2ee",
   "metadata": {},
   "outputs": [
    {
     "data": {
      "text/plain": [
       "<Axes: xlabel='count', ylabel='Type_ID'>"
      ]
     },
     "execution_count": 37,
     "metadata": {},
     "output_type": "execute_result"
    },
    {
     "data": {
      "image/png": "[encoded data removed]",
      "text/plain": [
       "<Figure size 640x480 with 1 Axes>"
      ]
     },
     "metadata": {},
     "output_type": "display_data"
    }
   ],
   "source": [
    "sns.countplot(data=student_log,y='Type_ID',hue='correct')"
   ]
  },
  {
   "cell_type": "code",
   "execution_count": 38,
   "id": "7b8efcfd",
   "metadata": {},
   "outputs": [
    {
     "data": {
      "text/plain": [
       "<Axes: >"
      ]
     },
     "execution_count": 38,
     "metadata": {},
     "output_type": "execute_result"
    },
    {
     "data": {
      "image/png": "[encoded data removed]",
      "text/plain": [
       "<Figure size 1100x900 with 2 Axes>"
      ]
     },
     "metadata": {},
     "output_type": "display_data"
    }
   ],
   "source": [
    "#Checking correlation\n",
    "corr_mat = student_log.corr()\n",
    "f, ax = plt.subplots(figsize=(11, 9))\n",
    "cmap = sns.diverging_palette(230, 20, as_cmap=True)\n",
    "sns.heatmap(corr_mat,linewidths=0.5,linecolor='white',cmap=cmap,center=0,annot=True)"
   ]
  },
  {
   "cell_type": "code",
   "execution_count": 39,
   "id": "ae7f8f69",
   "metadata": {},
   "outputs": [],
   "source": [
    "student_log.reset_index(inplace=True)"
   ]
  },
  {
   "cell_type": "code",
   "execution_count": 40,
   "id": "d2a6a3fe",
   "metadata": {},
   "outputs": [
    {
     "name": "stdout",
     "output_type": "stream",
     "text": [
      "<class 'pandas.core.frame.DataFrame'>\n",
      "RangeIndex: 881035 entries, 0 to 881034\n",
      "Data columns (total 10 columns):\n",
      " #   Column        Non-Null Count   Dtype  \n",
      "---  ------        --------------   -----  \n",
      " 0   index         881035 non-null  int64  \n",
      " 1   student_ID    881035 non-null  int64  \n",
      " 2   timeTaken     881035 non-null  float64\n",
      " 3   correct       881035 non-null  int64  \n",
      " 4   hintCount     881035 non-null  int64  \n",
      " 5   attemptCount  881035 non-null  int64  \n",
      " 6   year1         881035 non-null  int32  \n",
      " 7   year2         881035 non-null  int32  \n",
      " 8   skill_ID      881035 non-null  int32  \n",
      " 9   Type_ID       881035 non-null  int32  \n",
      "dtypes: float64(1), int32(4), int64(5)\n",
      "memory usage: 53.8 MB\n"
     ]
    }
   ],
   "source": [
    "student_log.info()"
   ]
  },
  {
   "cell_type": "code",
   "execution_count": 41,
   "id": "a152893c",
   "metadata": {},
   "outputs": [
    {
     "data": {
      "text/html": [
       "<div>\n",
       "<style scoped>\n",
       "    .dataframe tbody tr th:only-of-type {\n",
       "        vertical-align: middle;\n",
       "    }\n",
       "\n",
       "    .dataframe tbody tr th {\n",
       "        vertical-align: top;\n",
       "    }\n",
       "\n",
       "    .dataframe thead th {\n",
       "        text-align: right;\n",
       "    }\n",
       "</style>\n",
       "<table border=\"1\" class=\"dataframe\">\n",
       "  <thead>\n",
       "    <tr style=\"text-align: right;\">\n",
       "      <th></th>\n",
       "      <th>index</th>\n",
       "      <th>student_ID</th>\n",
       "      <th>timeTaken</th>\n",
       "      <th>correct</th>\n",
       "      <th>hintCount</th>\n",
       "      <th>attemptCount</th>\n",
       "      <th>year1</th>\n",
       "      <th>year2</th>\n",
       "      <th>skill_ID</th>\n",
       "      <th>Type_ID</th>\n",
       "    </tr>\n",
       "  </thead>\n",
       "  <tbody>\n",
       "    <tr>\n",
       "      <th>0</th>\n",
       "      <td>0</td>\n",
       "      <td>8</td>\n",
       "      <td>3.912023</td>\n",
       "      <td>0</td>\n",
       "      <td>1</td>\n",
       "      <td>1</td>\n",
       "      <td>2004</td>\n",
       "      <td>2005</td>\n",
       "      <td>72</td>\n",
       "      <td>15</td>\n",
       "    </tr>\n",
       "    <tr>\n",
       "      <th>1</th>\n",
       "      <td>1</td>\n",
       "      <td>8</td>\n",
       "      <td>1.609438</td>\n",
       "      <td>1</td>\n",
       "      <td>0</td>\n",
       "      <td>1</td>\n",
       "      <td>2004</td>\n",
       "      <td>2005</td>\n",
       "      <td>72</td>\n",
       "      <td>11</td>\n",
       "    </tr>\n",
       "    <tr>\n",
       "      <th>2</th>\n",
       "      <td>2</td>\n",
       "      <td>8</td>\n",
       "      <td>1.945910</td>\n",
       "      <td>0</td>\n",
       "      <td>0</td>\n",
       "      <td>1</td>\n",
       "      <td>2004</td>\n",
       "      <td>2005</td>\n",
       "      <td>92</td>\n",
       "      <td>11</td>\n",
       "    </tr>\n",
       "    <tr>\n",
       "      <th>3</th>\n",
       "      <td>3</td>\n",
       "      <td>8</td>\n",
       "      <td>2.944439</td>\n",
       "      <td>0</td>\n",
       "      <td>0</td>\n",
       "      <td>2</td>\n",
       "      <td>2004</td>\n",
       "      <td>2005</td>\n",
       "      <td>92</td>\n",
       "      <td>11</td>\n",
       "    </tr>\n",
       "    <tr>\n",
       "      <th>4</th>\n",
       "      <td>4</td>\n",
       "      <td>8</td>\n",
       "      <td>1.098612</td>\n",
       "      <td>1</td>\n",
       "      <td>0</td>\n",
       "      <td>1</td>\n",
       "      <td>2004</td>\n",
       "      <td>2005</td>\n",
       "      <td>92</td>\n",
       "      <td>11</td>\n",
       "    </tr>\n",
       "  </tbody>\n",
       "</table>\n",
       "</div>"
      ],
      "text/plain": [
       "   index  student_ID  timeTaken  correct  hintCount  attemptCount  year1  \\\n",
       "0      0           8   3.912023        0          1             1   2004   \n",
       "1      1           8   1.609438        1          0             1   2004   \n",
       "2      2           8   1.945910        0          0             1   2004   \n",
       "3      3           8   2.944439        0          0             2   2004   \n",
       "4      4           8   1.098612        1          0             1   2004   \n",
       "\n",
       "   year2  skill_ID  Type_ID  \n",
       "0   2005        72       15  \n",
       "1   2005        72       11  \n",
       "2   2005        92       11  \n",
       "3   2005        92       11  \n",
       "4   2005        92       11  "
      ]
     },
     "execution_count": 41,
     "metadata": {},
     "output_type": "execute_result"
    }
   ],
   "source": [
    "student_log.head()"
   ]
  },
  {
   "cell_type": "code",
   "execution_count": 42,
   "id": "463e390d",
   "metadata": {},
   "outputs": [],
   "source": [
    "#Connecting to SQL\n",
    "con = sql.connect(ROOT/r'data\\Train_datasets\\Pass_Fail\\AI_Edu_system.db')\n",
    "cur = con.cursor()"
   ]
  },
  {
   "cell_type": "code",
   "execution_count": 43,
   "id": "b1a5dc6d",
   "metadata": {},
   "outputs": [],
   "source": [
    "def add_data(df,table):\n",
    "    cols = tuple(df.columns)\n",
    "    for index,row in df.iterrows():\n",
    "        cur.execute(f''' INSERT INTO {table}{cols}\n",
    "                     VALUES {tuple(row)}''')"
   ]
  },
  {
   "cell_type": "code",
   "execution_count": 44,
   "id": "860baf7c",
   "metadata": {},
   "outputs": [],
   "source": [
    "#clearing the data base\n",
    "tables = ['skills','problemtype','student_log']\n",
    "for i in tables:\n",
    "    cur.execute(f'''DROP TABLE IF EXISTS {i}''')"
   ]
  },
  {
   "cell_type": "code",
   "execution_count": 45,
   "id": "0447de46",
   "metadata": {},
   "outputs": [
    {
     "data": {
      "text/html": [
       "<div>\n",
       "<style scoped>\n",
       "    .dataframe tbody tr th:only-of-type {\n",
       "        vertical-align: middle;\n",
       "    }\n",
       "\n",
       "    .dataframe tbody tr th {\n",
       "        vertical-align: top;\n",
       "    }\n",
       "\n",
       "    .dataframe thead th {\n",
       "        text-align: right;\n",
       "    }\n",
       "</style>\n",
       "<table border=\"1\" class=\"dataframe\">\n",
       "  <thead>\n",
       "    <tr style=\"text-align: right;\">\n",
       "      <th></th>\n",
       "      <th>skill_ID</th>\n",
       "      <th>skill</th>\n",
       "    </tr>\n",
       "  </thead>\n",
       "  <tbody>\n",
       "    <tr>\n",
       "      <th>0</th>\n",
       "      <td>72</td>\n",
       "      <td>properties-of-geometric-figures</td>\n",
       "    </tr>\n",
       "    <tr>\n",
       "      <th>1</th>\n",
       "      <td>92</td>\n",
       "      <td>sum-of-interior-angles-more-than-3-sides</td>\n",
       "    </tr>\n",
       "    <tr>\n",
       "      <th>2</th>\n",
       "      <td>69</td>\n",
       "      <td>point-plotting</td>\n",
       "    </tr>\n",
       "    <tr>\n",
       "      <th>3</th>\n",
       "      <td>97</td>\n",
       "      <td>transformations-rotations</td>\n",
       "    </tr>\n",
       "    <tr>\n",
       "      <th>4</th>\n",
       "      <td>78</td>\n",
       "      <td>reading-graph</td>\n",
       "    </tr>\n",
       "  </tbody>\n",
       "</table>\n",
       "</div>"
      ],
      "text/plain": [
       "   skill_ID                                     skill\n",
       "0        72           properties-of-geometric-figures\n",
       "1        92  sum-of-interior-angles-more-than-3-sides\n",
       "2        69                            point-plotting\n",
       "3        97                 transformations-rotations\n",
       "4        78                             reading-graph"
      ]
     },
     "execution_count": 45,
     "metadata": {},
     "output_type": "execute_result"
    }
   ],
   "source": [
    "sl_skill.head()"
   ]
  },
  {
   "cell_type": "code",
   "execution_count": 46,
   "id": "5547ecac",
   "metadata": {},
   "outputs": [
    {
     "data": {
      "text/html": [
       "<div>\n",
       "<style scoped>\n",
       "    .dataframe tbody tr th:only-of-type {\n",
       "        vertical-align: middle;\n",
       "    }\n",
       "\n",
       "    .dataframe tbody tr th {\n",
       "        vertical-align: top;\n",
       "    }\n",
       "\n",
       "    .dataframe thead th {\n",
       "        text-align: right;\n",
       "    }\n",
       "</style>\n",
       "<table border=\"1\" class=\"dataframe\">\n",
       "  <thead>\n",
       "    <tr style=\"text-align: right;\">\n",
       "      <th></th>\n",
       "      <th>Type_ID</th>\n",
       "      <th>problemType</th>\n",
       "    </tr>\n",
       "  </thead>\n",
       "  <tbody>\n",
       "    <tr>\n",
       "      <th>0</th>\n",
       "      <td>15</td>\n",
       "      <td>textfieldquestion</td>\n",
       "    </tr>\n",
       "    <tr>\n",
       "      <th>1</th>\n",
       "      <td>11</td>\n",
       "      <td>noprobtype</td>\n",
       "    </tr>\n",
       "    <tr>\n",
       "      <th>2</th>\n",
       "      <td>14</td>\n",
       "      <td>radioquestion</td>\n",
       "    </tr>\n",
       "    <tr>\n",
       "      <th>3</th>\n",
       "      <td>12</td>\n",
       "      <td>other</td>\n",
       "    </tr>\n",
       "    <tr>\n",
       "      <th>4</th>\n",
       "      <td>2</td>\n",
       "      <td>algebra</td>\n",
       "    </tr>\n",
       "  </tbody>\n",
       "</table>\n",
       "</div>"
      ],
      "text/plain": [
       "   Type_ID        problemType\n",
       "0       15  textfieldquestion\n",
       "1       11         noprobtype\n",
       "2       14      radioquestion\n",
       "3       12              other\n",
       "4        2            algebra"
      ]
     },
     "execution_count": 46,
     "metadata": {},
     "output_type": "execute_result"
    }
   ],
   "source": [
    "sl_problemType.head()"
   ]
  },
  {
   "cell_type": "code",
   "execution_count": 47,
   "id": "d1b520e5",
   "metadata": {},
   "outputs": [],
   "source": [
    "#Creating tables for relative data to SQL \n",
    "skill_table = '''CREATE TABLE IF NOT EXISTS skills(\n",
    "                 skill_ID INTEGER PRIMARY KEY,\n",
    "                 skill TEXT);'''\n",
    "problemType_table = '''CREATE TABLE IF NOT EXISTS problemtype(\n",
    "                       Type_ID INTEGER PRIMARY KEY,\n",
    "                       problemType TEXT);'''\n",
    "cur.execute(skill_table)\n",
    "con.commit()\n",
    "cur.execute(problemType_table)\n",
    "con.commit()\n",
    "add_data(sl_skill,'skills')\n",
    "con.commit()\n",
    "add_data(sl_problemType,'problemtype')\n",
    "con.commit()"
   ]
  },
  {
   "cell_type": "code",
   "execution_count": 48,
   "id": "8994cdda",
   "metadata": {},
   "outputs": [],
   "source": [
    "#Creating and uploading the cleaned table to sql\n",
    "create='''CREATE TABLE IF NOT EXISTS student_log(\n",
    "          student_ID INTEGER,\n",
    "          timeTaken DECIMAL,\n",
    "          correct INTEGER,\n",
    "          hintCount INTEGER,\n",
    "          attemptCount INTEGER,\n",
    "          year1 DATE,\n",
    "          year2 DATE,\n",
    "          skill_ID INTEGER,\n",
    "          Type_ID INTEGER,\n",
    "          FOREIGN KEY (skill_ID) REFERENCES skills(skill_ID)\n",
    "          FOREIGN KEY (Type_ID) REFERENCES problemtype(Type_ID)\n",
    "          );'''\n",
    "cur.execute(create)\n",
    "con.commit()"
   ]
  },
  {
   "cell_type": "code",
   "execution_count": 49,
   "id": "7047c6c3",
   "metadata": {},
   "outputs": [
    {
     "data": {
      "text/html": [
       "<div>\n",
       "<style scoped>\n",
       "    .dataframe tbody tr th:only-of-type {\n",
       "        vertical-align: middle;\n",
       "    }\n",
       "\n",
       "    .dataframe tbody tr th {\n",
       "        vertical-align: top;\n",
       "    }\n",
       "\n",
       "    .dataframe thead th {\n",
       "        text-align: right;\n",
       "    }\n",
       "</style>\n",
       "<table border=\"1\" class=\"dataframe\">\n",
       "  <thead>\n",
       "    <tr style=\"text-align: right;\">\n",
       "      <th></th>\n",
       "      <th>index</th>\n",
       "      <th>student_ID</th>\n",
       "      <th>timeTaken</th>\n",
       "      <th>correct</th>\n",
       "      <th>hintCount</th>\n",
       "      <th>attemptCount</th>\n",
       "      <th>year1</th>\n",
       "      <th>year2</th>\n",
       "      <th>skill_ID</th>\n",
       "      <th>Type_ID</th>\n",
       "    </tr>\n",
       "  </thead>\n",
       "  <tbody>\n",
       "    <tr>\n",
       "      <th>0</th>\n",
       "      <td>0</td>\n",
       "      <td>8</td>\n",
       "      <td>3.912023</td>\n",
       "      <td>0</td>\n",
       "      <td>1</td>\n",
       "      <td>1</td>\n",
       "      <td>2004</td>\n",
       "      <td>2005</td>\n",
       "      <td>72</td>\n",
       "      <td>15</td>\n",
       "    </tr>\n",
       "    <tr>\n",
       "      <th>1</th>\n",
       "      <td>1</td>\n",
       "      <td>8</td>\n",
       "      <td>1.609438</td>\n",
       "      <td>1</td>\n",
       "      <td>0</td>\n",
       "      <td>1</td>\n",
       "      <td>2004</td>\n",
       "      <td>2005</td>\n",
       "      <td>72</td>\n",
       "      <td>11</td>\n",
       "    </tr>\n",
       "    <tr>\n",
       "      <th>2</th>\n",
       "      <td>2</td>\n",
       "      <td>8</td>\n",
       "      <td>1.945910</td>\n",
       "      <td>0</td>\n",
       "      <td>0</td>\n",
       "      <td>1</td>\n",
       "      <td>2004</td>\n",
       "      <td>2005</td>\n",
       "      <td>92</td>\n",
       "      <td>11</td>\n",
       "    </tr>\n",
       "    <tr>\n",
       "      <th>3</th>\n",
       "      <td>3</td>\n",
       "      <td>8</td>\n",
       "      <td>2.944439</td>\n",
       "      <td>0</td>\n",
       "      <td>0</td>\n",
       "      <td>2</td>\n",
       "      <td>2004</td>\n",
       "      <td>2005</td>\n",
       "      <td>92</td>\n",
       "      <td>11</td>\n",
       "    </tr>\n",
       "    <tr>\n",
       "      <th>4</th>\n",
       "      <td>4</td>\n",
       "      <td>8</td>\n",
       "      <td>1.098612</td>\n",
       "      <td>1</td>\n",
       "      <td>0</td>\n",
       "      <td>1</td>\n",
       "      <td>2004</td>\n",
       "      <td>2005</td>\n",
       "      <td>92</td>\n",
       "      <td>11</td>\n",
       "    </tr>\n",
       "  </tbody>\n",
       "</table>\n",
       "</div>"
      ],
      "text/plain": [
       "   index  student_ID  timeTaken  correct  hintCount  attemptCount  year1  \\\n",
       "0      0           8   3.912023        0          1             1   2004   \n",
       "1      1           8   1.609438        1          0             1   2004   \n",
       "2      2           8   1.945910        0          0             1   2004   \n",
       "3      3           8   2.944439        0          0             2   2004   \n",
       "4      4           8   1.098612        1          0             1   2004   \n",
       "\n",
       "   year2  skill_ID  Type_ID  \n",
       "0   2005        72       15  \n",
       "1   2005        72       11  \n",
       "2   2005        92       11  \n",
       "3   2005        92       11  \n",
       "4   2005        92       11  "
      ]
     },
     "execution_count": 49,
     "metadata": {},
     "output_type": "execute_result"
    }
   ],
   "source": [
    "student_log.head()"
   ]
  },
  {
   "cell_type": "code",
   "execution_count": 50,
   "id": "6625edf4",
   "metadata": {},
   "outputs": [],
   "source": [
    "student_log=student_log.drop(columns=['index'],axis=1)"
   ]
  },
  {
   "cell_type": "code",
   "execution_count": 51,
   "id": "19196d17",
   "metadata": {},
   "outputs": [],
   "source": [
    "add_data(student_log,'student_log')"
   ]
  },
  {
   "cell_type": "code",
   "execution_count": 52,
   "id": "c488d34e",
   "metadata": {},
   "outputs": [],
   "source": [
    "con.commit()"
   ]
  }
 ],
 "metadata": {
  "kernelspec": {
   "display_name": "base",
   "language": "python",
   "name": "python3"
  },
  "language_info": {
   "codemirror_mode": {
    "name": "ipython",
    "version": 3
   },
   "file_extension": ".py",
   "mimetype": "text/x-python",
   "name": "python",
   "nbconvert_exporter": "python",
   "pygments_lexer": "ipython3",
   "version": "3.12.7"
  }
 },
 "nbformat": 4,
 "nbformat_minor": 5
}
