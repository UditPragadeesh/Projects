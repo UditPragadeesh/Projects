{
 "cells": [
  {
   "cell_type": "code",
   "execution_count": null,
   "id": "3984e827",
   "metadata": {},
   "outputs": [],
   "source": [
    "import pandas as pd\n",
    "import torch\n",
    "from torch import nn\n",
    "from torch.utils.data import DataLoader,Dataset\n",
    "from torch import optim\n",
    "import nltk\n",
    "from nltk.corpus import stopwords\n",
    "from nltk.stem import WordNetLemmatizer\n",
    "from sklearn.preprocessing import LabelEncoder\n",
    "from sklearn.model_selection import train_test_split\n",
    "from sklearn.utils.class_weight import compute_class_weight\n",
    "from tensorflow.keras.preprocessing.text import Tokenizer\n",
    "from tensorflow.keras.preprocessing.sequence import pad_sequences\n",
    "import string\n",
    "import numpy as np\n",
    "import seaborn as sns\n",
    "import matplotlib.pyplot as plt\n",
    "import re\n",
    "from pathlib import Path\n"
   ]
  },
  {
   "cell_type": "code",
   "execution_count": 2,
   "id": "f30b7c03",
   "metadata": {},
   "outputs": [],
   "source": [
    "file ='AI_Powered_Eduction_system'\n",
    "def root(root_name:str=file):\n",
    "    for parent in Path().resolve().parents:\n",
    "        if parent.name == root_name:\n",
    "            return(parent) \n",
    "ROOT = root()"
   ]
  },
  {
   "cell_type": "code",
   "execution_count": 3,
   "id": "7c2e4eec",
   "metadata": {},
   "outputs": [
    {
     "name": "stderr",
     "output_type": "stream",
     "text": [
      "[nltk_data] Downloading package stopwords to\n",
      "[nltk_data]     C:\\Users\\Udith\\AppData\\Roaming\\nltk_data...\n",
      "[nltk_data]   Package stopwords is already up-to-date!\n",
      "[nltk_data] Downloading package punkt_tab to\n",
      "[nltk_data]     C:\\Users\\Udith\\AppData\\Roaming\\nltk_data...\n",
      "[nltk_data]   Package punkt_tab is already up-to-date!\n"
     ]
    },
    {
     "data": {
      "text/plain": [
       "True"
      ]
     },
     "execution_count": 3,
     "metadata": {},
     "output_type": "execute_result"
    }
   ],
   "source": [
    "nltk.download('stopwords')\n",
    "nltk.download('punkt_tab')"
   ]
  },
  {
   "cell_type": "code",
   "execution_count": 4,
   "id": "4f4b9b53",
   "metadata": {},
   "outputs": [],
   "source": [
    "stop_words = stopwords.words('english')\n",
    "punctuations = string.punctuation\n",
    "lemmatizer = WordNetLemmatizer()"
   ]
  },
  {
   "cell_type": "code",
   "execution_count": 5,
   "id": "a939aca4",
   "metadata": {},
   "outputs": [],
   "source": [
    "def preprocess(txt):\n",
    "    txt=txt.lower()\n",
    "    txt = re.sub(r'[^A-Za-z0-9\\s]','',txt)\n",
    "    clean_text = nltk.word_tokenize(txt)\n",
    "    clean_text = [word for word in clean_text if word not in stop_words and word not in punctuations]\n",
    "    clean_text = [lemmatizer.lemmatize(word) for word in clean_text]\n",
    "    return ' '.join(clean_text)\n"
   ]
  },
  {
   "cell_type": "code",
   "execution_count": 6,
   "id": "fde2c1c6",
   "metadata": {},
   "outputs": [
    {
     "data": {
      "text/html": [
       "<div>\n",
       "<style scoped>\n",
       "    .dataframe tbody tr th:only-of-type {\n",
       "        vertical-align: middle;\n",
       "    }\n",
       "\n",
       "    .dataframe tbody tr th {\n",
       "        vertical-align: top;\n",
       "    }\n",
       "\n",
       "    .dataframe thead th {\n",
       "        text-align: right;\n",
       "    }\n",
       "</style>\n",
       "<table border=\"1\" class=\"dataframe\">\n",
       "  <thead>\n",
       "    <tr style=\"text-align: right;\">\n",
       "      <th></th>\n",
       "      <th>title</th>\n",
       "      <th>description</th>\n",
       "      <th>essay</th>\n",
       "      <th>authors</th>\n",
       "      <th>source_url</th>\n",
       "      <th>thumbnail_url</th>\n",
       "    </tr>\n",
       "  </thead>\n",
       "  <tbody>\n",
       "    <tr>\n",
       "      <th>0</th>\n",
       "      <td>Space exploration</td>\n",
       "      <td>When self-replicating craft bring life to the ...</td>\n",
       "      <td>Some time late this century, someone will push...</td>\n",
       "      <td>Jay Olson</td>\n",
       "      <td>https://aeon.co//essays/cosmic-expansion-is-a-...</td>\n",
       "      <td>https://images.aeonmedia.co/images/9239658f-b9...</td>\n",
       "    </tr>\n",
       "    <tr>\n",
       "      <th>1</th>\n",
       "      <td>History of science</td>\n",
       "      <td>To the detriment of the public, scientists and...</td>\n",
       "      <td>Would boycotting Russian scientists be an effe...</td>\n",
       "      <td>Lorraine Daston &amp; Peter Harrison</td>\n",
       "      <td>https://aeon.co//essays/science-and-history-ca...</td>\n",
       "      <td>https://images.aeonmedia.co/images/7e9ea9e3-03...</td>\n",
       "    </tr>\n",
       "    <tr>\n",
       "      <th>2</th>\n",
       "      <td>Religion</td>\n",
       "      <td>Once a centre of Afghan culture, Sufism seems ...</td>\n",
       "      <td>My introduction into the world of Afghanistanâ...</td>\n",
       "      <td>Annika Schmeding</td>\n",
       "      <td>https://aeon.co//essays/sufi-transitions-betwe...</td>\n",
       "      <td>https://images.aeonmedia.co/images/957fb6c9-40...</td>\n",
       "    </tr>\n",
       "    <tr>\n",
       "      <th>3</th>\n",
       "      <td>Thinkers and theories</td>\n",
       "      <td>The intrepid logician Kurt GÃ¶del believed in ...</td>\n",
       "      <td>As the foremost logician of the 20th century, ...</td>\n",
       "      <td>Alexander T Englert</td>\n",
       "      <td>https://aeon.co//essays/kurt-godel-his-mother-...</td>\n",
       "      <td>https://images.aeonmedia.co/images/cbe24f46-98...</td>\n",
       "    </tr>\n",
       "    <tr>\n",
       "      <th>4</th>\n",
       "      <td>Thinkers and theories</td>\n",
       "      <td>For Rachel Bespaloff, philosophy was a sensual...</td>\n",
       "      <td>Shortly after Rachel Bespaloffâs suicide in ...</td>\n",
       "      <td>Isabel Jacobs</td>\n",
       "      <td>https://aeon.co//essays/for-rachel-bespaloff-p...</td>\n",
       "      <td>https://images.aeonmedia.co/images/536e31b1-dc...</td>\n",
       "    </tr>\n",
       "  </tbody>\n",
       "</table>\n",
       "</div>"
      ],
      "text/plain": [
       "                   title                                        description  \\\n",
       "0      Space exploration  When self-replicating craft bring life to the ...   \n",
       "1     History of science  To the detriment of the public, scientists and...   \n",
       "2               Religion  Once a centre of Afghan culture, Sufism seems ...   \n",
       "3  Thinkers and theories  The intrepid logician Kurt GÃ¶del believed in ...   \n",
       "4  Thinkers and theories  For Rachel Bespaloff, philosophy was a sensual...   \n",
       "\n",
       "                                               essay  \\\n",
       "0  Some time late this century, someone will push...   \n",
       "1  Would boycotting Russian scientists be an effe...   \n",
       "2  My introduction into the world of Afghanistanâ...   \n",
       "3  As the foremost logician of the 20th century, ...   \n",
       "4  Shortly after Rachel Bespaloffâs suicide in ...   \n",
       "\n",
       "                            authors  \\\n",
       "0                         Jay Olson   \n",
       "1  Lorraine Daston & Peter Harrison   \n",
       "2                  Annika Schmeding   \n",
       "3               Alexander T Englert   \n",
       "4                     Isabel Jacobs   \n",
       "\n",
       "                                          source_url  \\\n",
       "0  https://aeon.co//essays/cosmic-expansion-is-a-...   \n",
       "1  https://aeon.co//essays/science-and-history-ca...   \n",
       "2  https://aeon.co//essays/sufi-transitions-betwe...   \n",
       "3  https://aeon.co//essays/kurt-godel-his-mother-...   \n",
       "4  https://aeon.co//essays/for-rachel-bespaloff-p...   \n",
       "\n",
       "                                       thumbnail_url  \n",
       "0  https://images.aeonmedia.co/images/9239658f-b9...  \n",
       "1  https://images.aeonmedia.co/images/7e9ea9e3-03...  \n",
       "2  https://images.aeonmedia.co/images/957fb6c9-40...  \n",
       "3  https://images.aeonmedia.co/images/cbe24f46-98...  \n",
       "4  https://images.aeonmedia.co/images/536e31b1-dc...  "
      ]
     },
     "execution_count": 6,
     "metadata": {},
     "output_type": "execute_result"
    }
   ],
   "source": [
    "essay_df = pd.read_csv(ROOT/r'data\\Train_datasets\\Topic_Detector\\essays_data.csv',encoding='latin-1')\n",
    "essay_df.head()"
   ]
  },
  {
   "cell_type": "code",
   "execution_count": 7,
   "id": "8b3cf74d",
   "metadata": {},
   "outputs": [
    {
     "data": {
      "text/html": [
       "<div>\n",
       "<style scoped>\n",
       "    .dataframe tbody tr th:only-of-type {\n",
       "        vertical-align: middle;\n",
       "    }\n",
       "\n",
       "    .dataframe tbody tr th {\n",
       "        vertical-align: top;\n",
       "    }\n",
       "\n",
       "    .dataframe thead th {\n",
       "        text-align: right;\n",
       "    }\n",
       "</style>\n",
       "<table border=\"1\" class=\"dataframe\">\n",
       "  <thead>\n",
       "    <tr style=\"text-align: right;\">\n",
       "      <th></th>\n",
       "      <th>title</th>\n",
       "      <th>description</th>\n",
       "    </tr>\n",
       "  </thead>\n",
       "  <tbody>\n",
       "    <tr>\n",
       "      <th>0</th>\n",
       "      <td>Space exploration</td>\n",
       "      <td>When self-replicating craft bring life to the ...</td>\n",
       "    </tr>\n",
       "    <tr>\n",
       "      <th>1</th>\n",
       "      <td>History of science</td>\n",
       "      <td>To the detriment of the public, scientists and...</td>\n",
       "    </tr>\n",
       "    <tr>\n",
       "      <th>2</th>\n",
       "      <td>Religion</td>\n",
       "      <td>Once a centre of Afghan culture, Sufism seems ...</td>\n",
       "    </tr>\n",
       "    <tr>\n",
       "      <th>3</th>\n",
       "      <td>Thinkers and theories</td>\n",
       "      <td>The intrepid logician Kurt GÃ¶del believed in ...</td>\n",
       "    </tr>\n",
       "    <tr>\n",
       "      <th>4</th>\n",
       "      <td>Thinkers and theories</td>\n",
       "      <td>For Rachel Bespaloff, philosophy was a sensual...</td>\n",
       "    </tr>\n",
       "  </tbody>\n",
       "</table>\n",
       "</div>"
      ],
      "text/plain": [
       "                   title                                        description\n",
       "0      Space exploration  When self-replicating craft bring life to the ...\n",
       "1     History of science  To the detriment of the public, scientists and...\n",
       "2               Religion  Once a centre of Afghan culture, Sufism seems ...\n",
       "3  Thinkers and theories  The intrepid logician Kurt GÃ¶del believed in ...\n",
       "4  Thinkers and theories  For Rachel Bespaloff, philosophy was a sensual..."
      ]
     },
     "execution_count": 7,
     "metadata": {},
     "output_type": "execute_result"
    }
   ],
   "source": [
    "essay_df=essay_df.iloc[:,:2]\n",
    "essay_df.head()"
   ]
  },
  {
   "cell_type": "code",
   "execution_count": 8,
   "id": "7817b862",
   "metadata": {},
   "outputs": [
    {
     "data": {
      "text/plain": [
       "114"
      ]
     },
     "execution_count": 8,
     "metadata": {},
     "output_type": "execute_result"
    }
   ],
   "source": [
    "len(essay_df['title'].unique())"
   ]
  },
  {
   "cell_type": "code",
   "execution_count": 9,
   "id": "1877fa51",
   "metadata": {},
   "outputs": [
    {
     "data": {
      "text/plain": [
       "2235"
      ]
     },
     "execution_count": 9,
     "metadata": {},
     "output_type": "execute_result"
    }
   ],
   "source": [
    "len(essay_df)"
   ]
  },
  {
   "cell_type": "code",
   "execution_count": 10,
   "id": "8c79cd36",
   "metadata": {},
   "outputs": [],
   "source": [
    "counts = essay_df['title'].value_counts()\n",
    "rare_titles = counts[counts<=10].index\n",
    "essay_df['title'] = essay_df['title'].apply(lambda x:'Other' if x in rare_titles else x)"
   ]
  },
  {
   "cell_type": "code",
   "execution_count": 11,
   "id": "698a6d42",
   "metadata": {},
   "outputs": [],
   "source": [
    "essay_df['clean_text']=essay_df['description'].apply(preprocess)"
   ]
  },
  {
   "cell_type": "code",
   "execution_count": 12,
   "id": "83aacca3",
   "metadata": {},
   "outputs": [
    {
     "data": {
      "text/plain": [
       "<Axes: xlabel='length'>"
      ]
     },
     "execution_count": 12,
     "metadata": {},
     "output_type": "execute_result"
    },
    {
     "data": {
      "image/png": "[encoded data removed]",
      "text/plain": [
       "<Figure size 640x480 with 1 Axes>"
      ]
     },
     "metadata": {},
     "output_type": "display_data"
    }
   ],
   "source": [
    "essay_df['length'] = essay_df['clean_text'].apply(lambda x:len(x.split()))\n",
    "sns.boxplot(essay_df,x='length')"
   ]
  },
  {
   "cell_type": "code",
   "execution_count": 13,
   "id": "630892d6",
   "metadata": {},
   "outputs": [],
   "source": [
    "X = essay_df['clean_text']\n",
    "y = essay_df['title']"
   ]
  },
  {
   "cell_type": "code",
   "execution_count": 14,
   "id": "bc377f41",
   "metadata": {},
   "outputs": [],
   "source": [
    "x_train,x_test,y_train,y_test = train_test_split(X,y,test_size=0.1)"
   ]
  },
  {
   "cell_type": "code",
   "execution_count": 15,
   "id": "e73f9937",
   "metadata": {},
   "outputs": [],
   "source": [
    "class_weights = compute_class_weight('balanced',classes=y_train.unique(),y=y_train)\n",
    "weight_tensor = torch.tensor(class_weights,dtype=torch.float)\n",
    "criterion = nn.CrossEntropyLoss(weight=weight_tensor)\n",
    "num_classes = len(y.unique())"
   ]
  },
  {
   "cell_type": "code",
   "execution_count": 16,
   "id": "d07c2ba5",
   "metadata": {},
   "outputs": [
    {
     "data": {
      "text/plain": [
       "76"
      ]
     },
     "execution_count": 16,
     "metadata": {},
     "output_type": "execute_result"
    }
   ],
   "source": [
    "num_classes"
   ]
  },
  {
   "cell_type": "code",
   "execution_count": 17,
   "id": "c2654ffc",
   "metadata": {},
   "outputs": [],
   "source": [
    "tokenizer = Tokenizer(char_level=False)\n",
    "tokenizer.fit_on_texts(x_train)\n",
    "x_train=tokenizer.texts_to_sequences(x_train)\n",
    "x_train_pad = pad_sequences(x_train,maxlen=50)\n",
    "x_test = tokenizer.texts_to_sequences(x_test)\n",
    "x_test_pad = pad_sequences(x_test,maxlen=50)"
   ]
  },
  {
   "cell_type": "code",
   "execution_count": 18,
   "id": "21013ddc",
   "metadata": {},
   "outputs": [],
   "source": [
    "encoder = LabelEncoder()\n",
    "y_train = encoder.fit_transform(y_train)\n",
    "y_test = encoder.transform(y_test)"
   ]
  },
  {
   "cell_type": "code",
   "execution_count": 19,
   "id": "29e93e2f",
   "metadata": {},
   "outputs": [],
   "source": [
    "class text_dataset(Dataset):\n",
    "    def __init__(self,x,y):\n",
    "        self.text = x\n",
    "        self.title = y.astype(np.int64)\n",
    "    def __len__(self):\n",
    "        return len(self.title)\n",
    "    def __getitem__(self, idx):\n",
    "        text = torch.tensor(self.text[idx])\n",
    "        title = torch.tensor(self.title[idx],dtype=torch.long)\n",
    "        return text,title"
   ]
  },
  {
   "cell_type": "code",
   "execution_count": 20,
   "id": "f592940f",
   "metadata": {},
   "outputs": [],
   "source": [
    "train_data = text_dataset(x_train_pad,y_train)\n",
    "train_loader = DataLoader(train_data,batch_size=4,shuffle=True)\n",
    "val_data = text_dataset(x_test,y_test)\n",
    "val_loader = DataLoader(train_data,batch_size=2,shuffle=True)"
   ]
  },
  {
   "cell_type": "code",
   "execution_count": 21,
   "id": "b3c963c2",
   "metadata": {},
   "outputs": [
    {
     "name": "stdout",
     "output_type": "stream",
     "text": [
      "6997\n"
     ]
    }
   ],
   "source": [
    "print(len(tokenizer.word_index)+1)"
   ]
  },
  {
   "cell_type": "code",
   "execution_count": 22,
   "id": "92026769",
   "metadata": {},
   "outputs": [],
   "source": [
    "device = torch.device('cuda' if torch.cuda.is_available() else 'cpu')"
   ]
  },
  {
   "cell_type": "code",
   "execution_count": 23,
   "id": "d3f9f02f",
   "metadata": {},
   "outputs": [
    {
     "name": "stdout",
     "output_type": "stream",
     "text": [
      "torch.Size([4, 50])\n"
     ]
    }
   ],
   "source": [
    "text,title = next(iter(train_loader))\n",
    "print(text.shape)"
   ]
  },
  {
   "cell_type": "code",
   "execution_count": 24,
   "id": "48f6329a",
   "metadata": {},
   "outputs": [],
   "source": [
    "class Net(nn.Module):\n",
    "    def __init__(self,num_classes,input_size=1):\n",
    "        super().__init__()\n",
    "        self.embedding = nn.Embedding(num_embeddings=10000,embedding_dim=50)\n",
    "        self.lstm = nn.LSTM(input_size=input_size,hidden_size=32,num_layers=2,batch_first=True)\n",
    "        self.lin = nn.Linear(32,num_classes)\n",
    "    def forward(self,x):\n",
    "        x = self.embedding(x)\n",
    "        h0 = torch.zeros(2,x.size(0),32)\n",
    "        c0 = torch.zeros(2,x.size(0),32)\n",
    "        out,_ = self.lstm(x,(h0,c0))\n",
    "        out = self.lin(out[:,-1,:])\n",
    "        return out\n"
   ]
  },
  {
   "cell_type": "code",
   "execution_count": 25,
   "id": "c1711386",
   "metadata": {},
   "outputs": [],
   "source": [
    "classifier = Net(num_classes=num_classes,input_size=50)\n",
    "optimizer = optim.Adam(classifier.parameters(),lr=0.001)"
   ]
  },
  {
   "cell_type": "code",
   "execution_count": 26,
   "id": "47378af1",
   "metadata": {},
   "outputs": [],
   "source": [
    "from torchmetrics import Precision,Recall\n",
    "met_prec = Precision(task='multiclass',num_classes=num_classes,average='macro')\n",
    "met_rec = Recall(task='multiclass',num_classes=num_classes,average='macro')"
   ]
  },
  {
   "cell_type": "code",
   "execution_count": 27,
   "id": "390ac088",
   "metadata": {},
   "outputs": [
    {
     "name": "stdout",
     "output_type": "stream",
     "text": [
      "epoch:0\n",
      "epoch:1\n",
      "epoch:2\n",
      "epoch:3\n",
      "epoch:4\n",
      "epoch:5\n",
      "epoch:6\n",
      "epoch:7\n",
      "epoch:8\n",
      "epoch:9\n",
      "epoch:10\n",
      "epoch:11\n",
      "epoch:12\n",
      "epoch:13\n",
      "epoch:14\n",
      "epoch:15\n",
      "epoch:16\n",
      "epoch:17\n",
      "epoch:18\n",
      "epoch:19\n"
     ]
    }
   ],
   "source": [
    "classifier.train(True)\n",
    "for epoch in range(20):\n",
    "    for text,title in train_loader:\n",
    "        optimizer.zero_grad()\n",
    "        output = classifier(text)\n",
    "        loss = criterion(output,title)\n",
    "        loss.backward()\n",
    "        optimizer.step()\n",
    "    print(f'epoch:{epoch}')"
   ]
  },
  {
   "cell_type": "code",
   "execution_count": 28,
   "id": "d67518e3",
   "metadata": {},
   "outputs": [
    {
     "name": "stdout",
     "output_type": "stream",
     "text": [
      "Precision: 0.9603174924850464\n",
      "Recall: 0.9612119197845459\n"
     ]
    }
   ],
   "source": [
    "classifier.eval()\n",
    "with torch.no_grad():\n",
    "    for text,title in val_loader:\n",
    "        output = classifier(text)\n",
    "        _,preds =torch.max(output,1)\n",
    "        met_prec(preds,title)\n",
    "        met_rec(preds,title)\n",
    "precision = met_prec.compute()\n",
    "recall = met_rec.compute()\n",
    "print(f'Precision: {precision}')\n",
    "print(f'Recall: {recall}')"
   ]
  },
  {
   "cell_type": "code",
   "execution_count": 29,
   "id": "cc4ea474",
   "metadata": {},
   "outputs": [],
   "source": [
    "import pickle as pkl"
   ]
  },
  {
   "cell_type": "code",
   "execution_count": 34,
   "id": "2013f7ac",
   "metadata": {},
   "outputs": [],
   "source": [
    "filename = ROOT/r'Models\\Topic_Detector\\encoder.sav'\n",
    "pkl.dump(encoder,open(filename,'wb'))\n",
    "token_filename = ROOT/r'Models\\Topic_Detector\\tokenizer.sav'\n",
    "pkl.dump(tokenizer,open(token_filename,'wb'))"
   ]
  },
  {
   "cell_type": "code",
   "execution_count": 35,
   "id": "62264448",
   "metadata": {},
   "outputs": [],
   "source": [
    "torch.save(classifier.state_dict(),ROOT/r'Models\\Topic_Detector\\topic_model_weights.pth')"
   ]
  }
 ],
 "metadata": {
  "kernelspec": {
   "display_name": "base",
   "language": "python",
   "name": "python3"
  },
  "language_info": {
   "codemirror_mode": {
    "name": "ipython",
    "version": 3
   },
   "file_extension": ".py",
   "mimetype": "text/x-python",
   "name": "python",
   "nbconvert_exporter": "python",
   "pygments_lexer": "ipython3",
   "version": "3.12.7"
  }
 },
 "nbformat": 4,
 "nbformat_minor": 5
}
